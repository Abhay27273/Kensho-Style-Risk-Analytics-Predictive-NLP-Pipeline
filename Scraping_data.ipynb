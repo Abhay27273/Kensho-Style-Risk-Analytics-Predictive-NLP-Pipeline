{
  "nbformat": 4,
  "nbformat_minor": 0,
  "metadata": {
    "colab": {
      "provenance": []
    },
    "kernelspec": {
      "name": "python3",
      "display_name": "Python 3"
    },
    "language_info": {
      "name": "python"
    }
  },
  "cells": [
    {
      "cell_type": "code",
      "source": [
        "pip install requests beautifulsoup4 pandas newspaper3k feedparser lxml\n"
      ],
      "metadata": {
        "colab": {
          "base_uri": "https://localhost:8080/"
        },
        "id": "_ZOF6bSJ_GRQ",
        "outputId": "ed133d5f-5a65-4e54-9d0d-a3e6a180797a"
      },
      "execution_count": 17,
      "outputs": [
        {
          "output_type": "stream",
          "name": "stdout",
          "text": [
            "Requirement already satisfied: requests in /usr/local/lib/python3.11/dist-packages (2.32.3)\n",
            "Requirement already satisfied: beautifulsoup4 in /usr/local/lib/python3.11/dist-packages (4.13.4)\n",
            "Requirement already satisfied: pandas in /usr/local/lib/python3.11/dist-packages (2.2.2)\n",
            "Collecting newspaper3k\n",
            "  Downloading newspaper3k-0.2.8-py3-none-any.whl.metadata (11 kB)\n",
            "Collecting feedparser\n",
            "  Downloading feedparser-6.0.11-py3-none-any.whl.metadata (2.4 kB)\n",
            "Requirement already satisfied: lxml in /usr/local/lib/python3.11/dist-packages (5.4.0)\n",
            "Requirement already satisfied: charset-normalizer<4,>=2 in /usr/local/lib/python3.11/dist-packages (from requests) (3.4.2)\n",
            "Requirement already satisfied: idna<4,>=2.5 in /usr/local/lib/python3.11/dist-packages (from requests) (3.10)\n",
            "Requirement already satisfied: urllib3<3,>=1.21.1 in /usr/local/lib/python3.11/dist-packages (from requests) (2.4.0)\n",
            "Requirement already satisfied: certifi>=2017.4.17 in /usr/local/lib/python3.11/dist-packages (from requests) (2025.4.26)\n",
            "Requirement already satisfied: soupsieve>1.2 in /usr/local/lib/python3.11/dist-packages (from beautifulsoup4) (2.7)\n",
            "Requirement already satisfied: typing-extensions>=4.0.0 in /usr/local/lib/python3.11/dist-packages (from beautifulsoup4) (4.14.0)\n",
            "Requirement already satisfied: numpy>=1.23.2 in /usr/local/lib/python3.11/dist-packages (from pandas) (2.0.2)\n",
            "Requirement already satisfied: python-dateutil>=2.8.2 in /usr/local/lib/python3.11/dist-packages (from pandas) (2.9.0.post0)\n",
            "Requirement already satisfied: pytz>=2020.1 in /usr/local/lib/python3.11/dist-packages (from pandas) (2025.2)\n",
            "Requirement already satisfied: tzdata>=2022.7 in /usr/local/lib/python3.11/dist-packages (from pandas) (2025.2)\n",
            "Requirement already satisfied: Pillow>=3.3.0 in /usr/local/lib/python3.11/dist-packages (from newspaper3k) (11.2.1)\n",
            "Requirement already satisfied: PyYAML>=3.11 in /usr/local/lib/python3.11/dist-packages (from newspaper3k) (6.0.2)\n",
            "Collecting cssselect>=0.9.2 (from newspaper3k)\n",
            "  Downloading cssselect-1.3.0-py3-none-any.whl.metadata (2.6 kB)\n",
            "Requirement already satisfied: nltk>=3.2.1 in /usr/local/lib/python3.11/dist-packages (from newspaper3k) (3.9.1)\n",
            "Collecting tldextract>=2.0.1 (from newspaper3k)\n",
            "  Downloading tldextract-5.3.0-py3-none-any.whl.metadata (11 kB)\n",
            "Collecting feedfinder2>=0.0.4 (from newspaper3k)\n",
            "  Downloading feedfinder2-0.0.4.tar.gz (3.3 kB)\n",
            "  Preparing metadata (setup.py) ... \u001b[?25l\u001b[?25hdone\n",
            "Collecting jieba3k>=0.35.1 (from newspaper3k)\n",
            "  Downloading jieba3k-0.35.1.zip (7.4 MB)\n",
            "\u001b[2K     \u001b[90m━━━━━━━━━━━━━━━━━━━━━━━━━━━━━━━━━━━━━━━━\u001b[0m \u001b[32m7.4/7.4 MB\u001b[0m \u001b[31m46.6 MB/s\u001b[0m eta \u001b[36m0:00:00\u001b[0m\n",
            "\u001b[?25h  Preparing metadata (setup.py) ... \u001b[?25l\u001b[?25hdone\n",
            "Collecting tinysegmenter==0.3 (from newspaper3k)\n",
            "  Downloading tinysegmenter-0.3.tar.gz (16 kB)\n",
            "  Preparing metadata (setup.py) ... \u001b[?25l\u001b[?25hdone\n",
            "Collecting sgmllib3k (from feedparser)\n",
            "  Downloading sgmllib3k-1.0.0.tar.gz (5.8 kB)\n",
            "  Preparing metadata (setup.py) ... \u001b[?25l\u001b[?25hdone\n",
            "Requirement already satisfied: six in /usr/local/lib/python3.11/dist-packages (from feedfinder2>=0.0.4->newspaper3k) (1.17.0)\n",
            "Requirement already satisfied: click in /usr/local/lib/python3.11/dist-packages (from nltk>=3.2.1->newspaper3k) (8.2.1)\n",
            "Requirement already satisfied: joblib in /usr/local/lib/python3.11/dist-packages (from nltk>=3.2.1->newspaper3k) (1.5.1)\n",
            "Requirement already satisfied: regex>=2021.8.3 in /usr/local/lib/python3.11/dist-packages (from nltk>=3.2.1->newspaper3k) (2024.11.6)\n",
            "Requirement already satisfied: tqdm in /usr/local/lib/python3.11/dist-packages (from nltk>=3.2.1->newspaper3k) (4.67.1)\n",
            "Collecting requests-file>=1.4 (from tldextract>=2.0.1->newspaper3k)\n",
            "  Downloading requests_file-2.1.0-py2.py3-none-any.whl.metadata (1.7 kB)\n",
            "Requirement already satisfied: filelock>=3.0.8 in /usr/local/lib/python3.11/dist-packages (from tldextract>=2.0.1->newspaper3k) (3.18.0)\n",
            "Downloading newspaper3k-0.2.8-py3-none-any.whl (211 kB)\n",
            "\u001b[2K   \u001b[90m━━━━━━━━━━━━━━━━━━━━━━━━━━━━━━━━━━━━━━━━\u001b[0m \u001b[32m211.1/211.1 kB\u001b[0m \u001b[31m14.7 MB/s\u001b[0m eta \u001b[36m0:00:00\u001b[0m\n",
            "\u001b[?25hDownloading feedparser-6.0.11-py3-none-any.whl (81 kB)\n",
            "\u001b[2K   \u001b[90m━━━━━━━━━━━━━━━━━━━━━━━━━━━━━━━━━━━━━━━━\u001b[0m \u001b[32m81.3/81.3 kB\u001b[0m \u001b[31m6.2 MB/s\u001b[0m eta \u001b[36m0:00:00\u001b[0m\n",
            "\u001b[?25hDownloading cssselect-1.3.0-py3-none-any.whl (18 kB)\n",
            "Downloading tldextract-5.3.0-py3-none-any.whl (107 kB)\n",
            "\u001b[2K   \u001b[90m━━━━━━━━━━━━━━━━━━━━━━━━━━━━━━━━━━━━━━━━\u001b[0m \u001b[32m107.4/107.4 kB\u001b[0m \u001b[31m7.1 MB/s\u001b[0m eta \u001b[36m0:00:00\u001b[0m\n",
            "\u001b[?25hDownloading requests_file-2.1.0-py2.py3-none-any.whl (4.2 kB)\n",
            "Building wheels for collected packages: tinysegmenter, feedfinder2, jieba3k, sgmllib3k\n",
            "  Building wheel for tinysegmenter (setup.py) ... \u001b[?25l\u001b[?25hdone\n",
            "  Created wheel for tinysegmenter: filename=tinysegmenter-0.3-py3-none-any.whl size=13540 sha256=c901b4e81516400c1d662daf4b9b6b4a9faa23302af54dfcd3afa86bd695b502\n",
            "  Stored in directory: /root/.cache/pip/wheels/fc/ab/f8/cce3a9ae6d828bd346be695f7ff54612cd22b7cbd7208d68f3\n",
            "  Building wheel for feedfinder2 (setup.py) ... \u001b[?25l\u001b[?25hdone\n",
            "  Created wheel for feedfinder2: filename=feedfinder2-0.0.4-py3-none-any.whl size=3341 sha256=b3675bc42b115b2b774d4c5451bf9c13d2a87effdb05efa5ebd76df88e08c0d1\n",
            "  Stored in directory: /root/.cache/pip/wheels/80/d5/72/9cd9eccc819636436c6a6e59c22a0fb1ec167beef141f56491\n",
            "  Building wheel for jieba3k (setup.py) ... \u001b[?25l\u001b[?25hdone\n",
            "  Created wheel for jieba3k: filename=jieba3k-0.35.1-py3-none-any.whl size=7398380 sha256=7fc1806909aafed38ef7652352b47d670733379c9c08e11669278373aed9e669\n",
            "  Stored in directory: /root/.cache/pip/wheels/3a/a1/46/8e68055c1713f9c4598774c15ad0541f26d5425ee7423b6493\n",
            "  Building wheel for sgmllib3k (setup.py) ... \u001b[?25l\u001b[?25hdone\n",
            "  Created wheel for sgmllib3k: filename=sgmllib3k-1.0.0-py3-none-any.whl size=6046 sha256=aee97bdb2a8a585d6988d691343cca2c55ac426498e78a142a4a9c853a6cbf8e\n",
            "  Stored in directory: /root/.cache/pip/wheels/3b/25/2a/105d6a15df6914f4d15047691c6c28f9052cc1173e40285d03\n",
            "Successfully built tinysegmenter feedfinder2 jieba3k sgmllib3k\n",
            "Installing collected packages: tinysegmenter, sgmllib3k, jieba3k, feedparser, cssselect, requests-file, feedfinder2, tldextract, newspaper3k\n",
            "Successfully installed cssselect-1.3.0 feedfinder2-0.0.4 feedparser-6.0.11 jieba3k-0.35.1 newspaper3k-0.2.8 requests-file-2.1.0 sgmllib3k-1.0.0 tinysegmenter-0.3 tldextract-5.3.0\n"
          ]
        }
      ]
    },
    {
      "cell_type": "code",
      "source": [
        "pip install requests beautifulsoup4 trafilatura feedparser pandas lxml\n"
      ],
      "metadata": {
        "colab": {
          "base_uri": "https://localhost:8080/"
        },
        "id": "VyUB40I6KSh7",
        "outputId": "f2da1998-6b94-4400-b07f-1455507967f5"
      },
      "execution_count": 18,
      "outputs": [
        {
          "output_type": "stream",
          "name": "stdout",
          "text": [
            "Requirement already satisfied: requests in /usr/local/lib/python3.11/dist-packages (2.32.3)\n",
            "Requirement already satisfied: beautifulsoup4 in /usr/local/lib/python3.11/dist-packages (4.13.4)\n",
            "Collecting trafilatura\n",
            "  Downloading trafilatura-2.0.0-py3-none-any.whl.metadata (12 kB)\n",
            "Requirement already satisfied: feedparser in /usr/local/lib/python3.11/dist-packages (6.0.11)\n",
            "Requirement already satisfied: pandas in /usr/local/lib/python3.11/dist-packages (2.2.2)\n",
            "Requirement already satisfied: lxml in /usr/local/lib/python3.11/dist-packages (5.4.0)\n",
            "Requirement already satisfied: charset-normalizer<4,>=2 in /usr/local/lib/python3.11/dist-packages (from requests) (3.4.2)\n",
            "Requirement already satisfied: idna<4,>=2.5 in /usr/local/lib/python3.11/dist-packages (from requests) (3.10)\n",
            "Requirement already satisfied: urllib3<3,>=1.21.1 in /usr/local/lib/python3.11/dist-packages (from requests) (2.4.0)\n",
            "Requirement already satisfied: certifi>=2017.4.17 in /usr/local/lib/python3.11/dist-packages (from requests) (2025.4.26)\n",
            "Requirement already satisfied: soupsieve>1.2 in /usr/local/lib/python3.11/dist-packages (from beautifulsoup4) (2.7)\n",
            "Requirement already satisfied: typing-extensions>=4.0.0 in /usr/local/lib/python3.11/dist-packages (from beautifulsoup4) (4.14.0)\n",
            "Collecting courlan>=1.3.2 (from trafilatura)\n",
            "  Downloading courlan-1.3.2-py3-none-any.whl.metadata (17 kB)\n",
            "Collecting htmldate>=1.9.2 (from trafilatura)\n",
            "  Downloading htmldate-1.9.3-py3-none-any.whl.metadata (10 kB)\n",
            "Collecting justext>=3.0.1 (from trafilatura)\n",
            "  Downloading justext-3.0.2-py2.py3-none-any.whl.metadata (7.3 kB)\n",
            "Requirement already satisfied: sgmllib3k in /usr/local/lib/python3.11/dist-packages (from feedparser) (1.0.0)\n",
            "Requirement already satisfied: numpy>=1.23.2 in /usr/local/lib/python3.11/dist-packages (from pandas) (2.0.2)\n",
            "Requirement already satisfied: python-dateutil>=2.8.2 in /usr/local/lib/python3.11/dist-packages (from pandas) (2.9.0.post0)\n",
            "Requirement already satisfied: pytz>=2020.1 in /usr/local/lib/python3.11/dist-packages (from pandas) (2025.2)\n",
            "Requirement already satisfied: tzdata>=2022.7 in /usr/local/lib/python3.11/dist-packages (from pandas) (2025.2)\n",
            "Requirement already satisfied: babel>=2.16.0 in /usr/local/lib/python3.11/dist-packages (from courlan>=1.3.2->trafilatura) (2.17.0)\n",
            "Collecting tld>=0.13 (from courlan>=1.3.2->trafilatura)\n",
            "  Downloading tld-0.13.1-py2.py3-none-any.whl.metadata (10 kB)\n",
            "Collecting dateparser>=1.1.2 (from htmldate>=1.9.2->trafilatura)\n",
            "  Downloading dateparser-1.2.1-py3-none-any.whl.metadata (29 kB)\n",
            "Requirement already satisfied: six>=1.5 in /usr/local/lib/python3.11/dist-packages (from python-dateutil>=2.8.2->pandas) (1.17.0)\n",
            "Requirement already satisfied: regex!=2019.02.19,!=2021.8.27,>=2015.06.24 in /usr/local/lib/python3.11/dist-packages (from dateparser>=1.1.2->htmldate>=1.9.2->trafilatura) (2024.11.6)\n",
            "Requirement already satisfied: tzlocal>=0.2 in /usr/local/lib/python3.11/dist-packages (from dateparser>=1.1.2->htmldate>=1.9.2->trafilatura) (5.3.1)\n",
            "Collecting lxml_html_clean (from lxml[html_clean]>=4.4.2->justext>=3.0.1->trafilatura)\n",
            "  Downloading lxml_html_clean-0.4.2-py3-none-any.whl.metadata (2.4 kB)\n",
            "Downloading trafilatura-2.0.0-py3-none-any.whl (132 kB)\n",
            "\u001b[2K   \u001b[90m━━━━━━━━━━━━━━━━━━━━━━━━━━━━━━━━━━━━━━━━\u001b[0m \u001b[32m132.6/132.6 kB\u001b[0m \u001b[31m4.7 MB/s\u001b[0m eta \u001b[36m0:00:00\u001b[0m\n",
            "\u001b[?25hDownloading courlan-1.3.2-py3-none-any.whl (33 kB)\n",
            "Downloading htmldate-1.9.3-py3-none-any.whl (31 kB)\n",
            "Downloading justext-3.0.2-py2.py3-none-any.whl (837 kB)\n",
            "\u001b[2K   \u001b[90m━━━━━━━━━━━━━━━━━━━━━━━━━━━━━━━━━━━━━━━━\u001b[0m \u001b[32m837.9/837.9 kB\u001b[0m \u001b[31m21.1 MB/s\u001b[0m eta \u001b[36m0:00:00\u001b[0m\n",
            "\u001b[?25hDownloading dateparser-1.2.1-py3-none-any.whl (295 kB)\n",
            "\u001b[2K   \u001b[90m━━━━━━━━━━━━━━━━━━━━━━━━━━━━━━━━━━━━━━━━\u001b[0m \u001b[32m295.7/295.7 kB\u001b[0m \u001b[31m18.4 MB/s\u001b[0m eta \u001b[36m0:00:00\u001b[0m\n",
            "\u001b[?25hDownloading tld-0.13.1-py2.py3-none-any.whl (274 kB)\n",
            "\u001b[2K   \u001b[90m━━━━━━━━━━━━━━━━━━━━━━━━━━━━━━━━━━━━━━━━\u001b[0m \u001b[32m274.7/274.7 kB\u001b[0m \u001b[31m19.0 MB/s\u001b[0m eta \u001b[36m0:00:00\u001b[0m\n",
            "\u001b[?25hDownloading lxml_html_clean-0.4.2-py3-none-any.whl (14 kB)\n",
            "Installing collected packages: tld, lxml_html_clean, dateparser, courlan, justext, htmldate, trafilatura\n",
            "Successfully installed courlan-1.3.2 dateparser-1.2.1 htmldate-1.9.3 justext-3.0.2 lxml_html_clean-0.4.2 tld-0.13.1 trafilatura-2.0.0\n"
          ]
        }
      ]
    },
    {
      "cell_type": "code",
      "source": [
        "import requests\n",
        "from bs4 import BeautifulSoup\n",
        "import feedparser\n",
        "import trafilatura\n",
        "import pandas as pd\n",
        "from datetime import datetime\n",
        "import time\n",
        "\n",
        "headers = {'User-Agent': 'Mozilla/5.0'}\n",
        "all_articles = []\n",
        "\n",
        "def get_article_text(url):\n",
        "    try:\n",
        "        downloaded = trafilatura.fetch_url(url)\n",
        "        if downloaded:\n",
        "            return trafilatura.extract(downloaded)\n",
        "    except:\n",
        "        return None\n",
        "    return None\n",
        "\n",
        "def fetch_reuters(pages=3):\n",
        "    print(\"Fetching Reuters...\")\n",
        "    for page in range(1, pages+1):\n",
        "        url = f\"https://www.reuters.com/markets/?view=page&page={page}\"\n",
        "        soup = BeautifulSoup(requests.get(url, headers=headers).text, \"lxml\")\n",
        "        articles = soup.find_all(\"article\")\n",
        "\n",
        "        for a in articles:\n",
        "            h3 = a.find(\"h3\")\n",
        "            link = a.find(\"a\", href=True)\n",
        "            if h3 and link:\n",
        "                title = h3.text.strip()\n",
        "                full_url = \"https://www.reuters.com\" + link['href']\n",
        "                all_articles.append({\n",
        "                    'source': 'Reuters',\n",
        "                    'title': title,\n",
        "                    'url': full_url,\n",
        "                    'published': None,\n",
        "                    'content': get_article_text(full_url)\n",
        "                })\n",
        "\n",
        "def fetch_cnbc():\n",
        "    print(\"Fetching CNBC...\")\n",
        "    rss_url = \"https://www.cnbc.com/id/100003114/device/rss/rss.html\"\n",
        "    feed = feedparser.parse(rss_url)\n",
        "    for entry in feed.entries[:50]:\n",
        "        all_articles.append({\n",
        "            'source': 'CNBC',\n",
        "            'title': entry.title,\n",
        "            'url': entry.link,\n",
        "            'published': entry.get('published', None),\n",
        "            'content': get_article_text(entry.link)\n",
        "        })\n",
        "\n",
        "def fetch_investing(pages=3):\n",
        "    print(\"Fetching Investing.com...\")\n",
        "    for page in range(1, pages+1):\n",
        "        url = f\"https://www.investing.com/news/economy/{page}\"\n",
        "        soup = BeautifulSoup(requests.get(url, headers=headers).text, \"lxml\")\n",
        "        news_list = soup.select(\"div.textDiv a.title\")\n",
        "\n",
        "        for news in news_list:\n",
        "            title = news.text.strip()\n",
        "            link = \"https://www.investing.com\" + news[\"href\"]\n",
        "            all_articles.append({\n",
        "                'source': 'Investing.com',\n",
        "                'title': title,\n",
        "                'url': link,\n",
        "                'published': None,\n",
        "                'content': get_article_text(link)\n",
        "            })\n",
        "\n",
        "def fetch_yahoo_finance():\n",
        "    print(\"Fetching Yahoo Finance...\")\n",
        "    url = \"https://finance.yahoo.com/\"\n",
        "    soup = BeautifulSoup(requests.get(url, headers=headers).text, \"lxml\")\n",
        "    seen = set()\n",
        "    for a in soup.find_all('a', href=True):\n",
        "        href = a['href']\n",
        "        if '/news/' in href and href not in seen:\n",
        "            seen.add(href)\n",
        "            title = a.text.strip()\n",
        "            full_url = 'https://finance.yahoo.com' + href\n",
        "            all_articles.append({\n",
        "                'source': 'Yahoo Finance',\n",
        "                'title': title,\n",
        "                'url': full_url,\n",
        "                'published': None,\n",
        "                'content': get_article_text(full_url)\n",
        "            })\n",
        "            if len(seen) >= 50:\n",
        "                break\n",
        "\n",
        "def fetch_marketwatch():\n",
        "    print(\"Fetching MarketWatch...\")\n",
        "    url = \"https://www.marketwatch.com/\"\n",
        "    soup = BeautifulSoup(requests.get(url, headers=headers).text, \"lxml\")\n",
        "    for a in soup.select('a.article__headline')[:50]:\n",
        "        title = a.text.strip()\n",
        "        link = a.get('href')\n",
        "        if link and title:\n",
        "            all_articles.append({\n",
        "                'source': 'MarketWatch',\n",
        "                'title': title,\n",
        "                'url': link,\n",
        "                'published': None,\n",
        "                'content': get_article_text(link)\n",
        "            })\n",
        "\n",
        "def fetch_forbes():\n",
        "    print(\"Fetching Forbes...\")\n",
        "    url = \"https://www.forbes.com/business/\"\n",
        "    soup = BeautifulSoup(requests.get(url, headers=headers).text, \"lxml\")\n",
        "    articles = soup.select('a[data-ga-track]')\n",
        "    count = 0\n",
        "    for a in articles:\n",
        "        link = a.get('href')\n",
        "        title = a.text.strip()\n",
        "        if link and title and \"https://www.forbes.com/sites/\" in link:\n",
        "            all_articles.append({\n",
        "                'source': 'Forbes',\n",
        "                'title': title,\n",
        "                'url': link,\n",
        "                'published': None,\n",
        "                'content': get_article_text(link)\n",
        "            })\n",
        "            count += 1\n",
        "        if count >= 50:\n",
        "            break\n",
        "\n",
        "def fetch_business_insider():\n",
        "    print(\"Fetching Business Insider...\")\n",
        "    url = \"https://www.businessinsider.com/\"\n",
        "    soup = BeautifulSoup(requests.get(url, headers=headers).text, \"lxml\")\n",
        "    articles = soup.select('a[data-analytics-link]')\n",
        "    seen = set()\n",
        "    for a in articles:\n",
        "        link = a.get('href')\n",
        "        title = a.text.strip()\n",
        "        if link and title and \"/article\" in link and link not in seen:\n",
        "            full_url = \"https://www.businessinsider.com\" + link if link.startswith('/') else link\n",
        "            seen.add(full_url)\n",
        "            all_articles.append({\n",
        "                'source': 'Business Insider',\n",
        "                'title': title,\n",
        "                'url': full_url,\n",
        "                'published': None,\n",
        "                'content': get_article_text(full_url)\n",
        "            })\n",
        "        if len(seen) >= 50:\n",
        "            break\n",
        "\n",
        "# Run all scrapers\n",
        "print(\"Starting enhanced scraping...\")\n",
        "fetch_reuters()\n",
        "fetch_cnbc()\n",
        "fetch_investing()\n",
        "fetch_yahoo_finance()\n",
        "fetch_marketwatch()\n",
        "fetch_forbes()\n",
        "fetch_business_insider()\n",
        "\n",
        "# Save to CSV\n",
        "df = pd.DataFrame(all_articles)\n",
        "df.drop_duplicates(subset='url', inplace=True)\n",
        "\n",
        "now = datetime.now().strftime(\"%Y-%m-%d_%H-%M\")\n",
        "csv_name = f\"financial_news_{now}.csv\"\n",
        "df.to_csv(f\"csv_name\", index=False)\n",
        "\n",
        "# Show summary\n",
        "df.info(), csv_name\n"
      ],
      "metadata": {
        "colab": {
          "base_uri": "https://localhost:8080/"
        },
        "id": "YjFc73TIKOr2",
        "outputId": "2ce7a4b6-6fd1-4768-d040-296caed4586f"
      },
      "execution_count": 24,
      "outputs": [
        {
          "output_type": "stream",
          "name": "stdout",
          "text": [
            "Starting enhanced scraping...\n",
            "Fetching Reuters...\n",
            "Fetching CNBC...\n",
            "Fetching Investing.com...\n",
            "Fetching Yahoo Finance...\n"
          ]
        },
        {
          "output_type": "stream",
          "name": "stderr",
          "text": [
            "ERROR:trafilatura.downloads:download error: https://finance.yahoo.comhttps://www.yahoo.com/news/ HTTPSConnectionPool(host='finance.yahoo.comhttps', port=443): Max retries exceeded with url: //www.yahoo.com/news/ (Caused by NameResolutionError(\"<urllib3.connection.HTTPSConnection object at 0x7fe5b7003690>: Failed to resolve 'finance.yahoo.comhttps' ([Errno -2] Name or service not known)\"))\n",
            "ERROR:trafilatura.downloads:download error: https://finance.yahoo.comhttps://www.yahoo.com/news/us/ HTTPSConnectionPool(host='finance.yahoo.comhttps', port=443): Max retries exceeded with url: //www.yahoo.com/news/us/ (Caused by NameResolutionError(\"<urllib3.connection.HTTPSConnection object at 0x7fe5b5d0d9d0>: Failed to resolve 'finance.yahoo.comhttps' ([Errno -2] Name or service not known)\"))\n",
            "ERROR:trafilatura.downloads:download error: https://finance.yahoo.comhttps://www.yahoo.com/news/politics/ HTTPSConnectionPool(host='finance.yahoo.comhttps', port=443): Max retries exceeded with url: //www.yahoo.com/news/politics/ (Caused by NameResolutionError(\"<urllib3.connection.HTTPSConnection object at 0x7fe5b73937d0>: Failed to resolve 'finance.yahoo.comhttps' ([Errno -2] Name or service not known)\"))\n",
            "ERROR:trafilatura.downloads:download error: https://finance.yahoo.comhttps://www.yahoo.com/news/world/ HTTPSConnectionPool(host='finance.yahoo.comhttps', port=443): Max retries exceeded with url: //www.yahoo.com/news/world/ (Caused by NameResolutionError(\"<urllib3.connection.HTTPSConnection object at 0x7fe5b71b88d0>: Failed to resolve 'finance.yahoo.comhttps' ([Errno -2] Name or service not known)\"))\n",
            "ERROR:trafilatura.downloads:download error: https://finance.yahoo.comhttps://www.yahoo.com/news/weather/ HTTPSConnectionPool(host='finance.yahoo.comhttps', port=443): Max retries exceeded with url: //www.yahoo.com/news/weather/ (Caused by NameResolutionError(\"<urllib3.connection.HTTPSConnection object at 0x7fe5b71b9150>: Failed to resolve 'finance.yahoo.comhttps' ([Errno -2] Name or service not known)\"))\n",
            "ERROR:trafilatura.downloads:download error: https://finance.yahoo.comhttps://www.yahoo.com/news/health/ HTTPSConnectionPool(host='finance.yahoo.comhttps', port=443): Max retries exceeded with url: //www.yahoo.com/news/health/ (Caused by NameResolutionError(\"<urllib3.connection.HTTPSConnection object at 0x7fe5b71b9ad0>: Failed to resolve 'finance.yahoo.comhttps' ([Errno -2] Name or service not known)\"))\n",
            "ERROR:trafilatura.downloads:download error: https://finance.yahoo.comhttps://www.yahoo.com/news/science/ HTTPSConnectionPool(host='finance.yahoo.comhttps', port=443): Max retries exceeded with url: //www.yahoo.com/news/science/ (Caused by NameResolutionError(\"<urllib3.connection.HTTPSConnection object at 0x7fe5b71ba410>: Failed to resolve 'finance.yahoo.comhttps' ([Errno -2] Name or service not known)\"))\n",
            "ERROR:trafilatura.downloads:download error: https://finance.yahoo.comhttps://www.yahoo.com/news/tagged/360/ HTTPSConnectionPool(host='finance.yahoo.comhttps', port=443): Max retries exceeded with url: //www.yahoo.com/news/tagged/360/ (Caused by NameResolutionError(\"<urllib3.connection.HTTPSConnection object at 0x7fe5b7393990>: Failed to resolve 'finance.yahoo.comhttps' ([Errno -2] Name or service not known)\"))\n",
            "ERROR:trafilatura.downloads:download error: https://finance.yahoo.comhttps://finance.yahoo.com/news/ HTTPSConnectionPool(host='finance.yahoo.comhttps', port=443): Max retries exceeded with url: //finance.yahoo.com/news/ (Caused by NameResolutionError(\"<urllib3.connection.HTTPSConnection object at 0x7fe5b7002a90>: Failed to resolve 'finance.yahoo.comhttps' ([Errno -2] Name or service not known)\"))\n",
            "ERROR:trafilatura.downloads:download error: https://finance.yahoo.comhttps://finance.yahoo.com/news/live/live-president-trump-reiterates-threat-of-25-tariffs-on-canada-mexico-as-deadline-looms-191201171.html HTTPSConnectionPool(host='finance.yahoo.comhttps', port=443): Max retries exceeded with url: //finance.yahoo.com/news/live/live-president-trump-reiterates-threat-of-25-tariffs-on-canada-mexico-as-deadline-looms-191201171.html (Caused by NameResolutionError(\"<urllib3.connection.HTTPSConnection object at 0x7fe5b71b9ad0>: Failed to resolve 'finance.yahoo.comhttps' ([Errno -2] Name or service not known)\"))\n",
            "ERROR:trafilatura.downloads:download error: https://finance.yahoo.comhttps://finance.yahoo.com/news/sign-up-for-yahoo-finances-morning-brief-174158888.html/ HTTPSConnectionPool(host='finance.yahoo.comhttps', port=443): Max retries exceeded with url: //finance.yahoo.com/news/sign-up-for-yahoo-finances-morning-brief-174158888.html/ (Caused by NameResolutionError(\"<urllib3.connection.HTTPSConnection object at 0x7fe5b71b96d0>: Failed to resolve 'finance.yahoo.comhttps' ([Errno -2] Name or service not known)\"))\n",
            "ERROR:trafilatura.downloads:download error: https://finance.yahoo.comhttps://sports.yahoo.com/fantasy/news/ HTTPSConnectionPool(host='finance.yahoo.comhttps', port=443): Max retries exceeded with url: //sports.yahoo.com/fantasy/news/ (Caused by NameResolutionError(\"<urllib3.connection.HTTPSConnection object at 0x7fe5b71b84d0>: Failed to resolve 'finance.yahoo.comhttps' ([Errno -2] Name or service not known)\"))\n",
            "ERROR:trafilatura.downloads:download error: https://finance.yahoo.comhttps://sports.yahoo.com/nfl/news/ HTTPSConnectionPool(host='finance.yahoo.comhttps', port=443): Max retries exceeded with url: //sports.yahoo.com/nfl/news/ (Caused by NameResolutionError(\"<urllib3.connection.HTTPSConnection object at 0x7fe5b71bb250>: Failed to resolve 'finance.yahoo.comhttps' ([Errno -2] Name or service not known)\"))\n",
            "ERROR:trafilatura.downloads:download error: https://finance.yahoo.comhttps://sports.yahoo.com/nba/news/ HTTPSConnectionPool(host='finance.yahoo.comhttps', port=443): Max retries exceeded with url: //sports.yahoo.com/nba/news/ (Caused by NameResolutionError(\"<urllib3.connection.HTTPSConnection object at 0x7fe5b71bb850>: Failed to resolve 'finance.yahoo.comhttps' ([Errno -2] Name or service not known)\"))\n",
            "ERROR:trafilatura.downloads:download error: https://finance.yahoo.comhttps://sports.yahoo.com/mlb/news/ HTTPSConnectionPool(host='finance.yahoo.comhttps', port=443): Max retries exceeded with url: //sports.yahoo.com/mlb/news/ (Caused by NameResolutionError(\"<urllib3.connection.HTTPSConnection object at 0x7fe5b71bbdd0>: Failed to resolve 'finance.yahoo.comhttps' ([Errno -2] Name or service not known)\"))\n",
            "ERROR:trafilatura.downloads:download error: https://finance.yahoo.comhttps://sports.yahoo.com/nhl/news/ HTTPSConnectionPool(host='finance.yahoo.comhttps', port=443): Max retries exceeded with url: //sports.yahoo.com/nhl/news/ (Caused by NameResolutionError(\"<urllib3.connection.HTTPSConnection object at 0x7fe5b71d3a90>: Failed to resolve 'finance.yahoo.comhttps' ([Errno -2] Name or service not known)\"))\n",
            "ERROR:trafilatura.downloads:download error: https://finance.yahoo.comhttps://https://sports.yahoo.com/college-football/news/ HTTPSConnectionPool(host='finance.yahoo.comhttps', port=443): Max retries exceeded with url: //https://sports.yahoo.com/college-football/news/ (Caused by NameResolutionError(\"<urllib3.connection.HTTPSConnection object at 0x7fe5b71d3090>: Failed to resolve 'finance.yahoo.comhttps' ([Errno -2] Name or service not known)\"))\n",
            "ERROR:trafilatura.downloads:download error: https://finance.yahoo.comhttps://sports.yahoo.com/soccer/news/ HTTPSConnectionPool(host='finance.yahoo.comhttps', port=443): Max retries exceeded with url: //sports.yahoo.com/soccer/news/ (Caused by NameResolutionError(\"<urllib3.connection.HTTPSConnection object at 0x7fe5b71d2890>: Failed to resolve 'finance.yahoo.comhttps' ([Errno -2] Name or service not known)\"))\n",
            "ERROR:trafilatura.downloads:download error: https://finance.yahoo.comhttps://sports.yahoo.com/news/ HTTPSConnectionPool(host='finance.yahoo.comhttps', port=443): Max retries exceeded with url: //sports.yahoo.com/news/ (Caused by NameResolutionError(\"<urllib3.connection.HTTPSConnection object at 0x7fe5b71d0a90>: Failed to resolve 'finance.yahoo.comhttps' ([Errno -2] Name or service not known)\"))\n",
            "ERROR:trafilatura.downloads:download error: https://finance.yahoo.comhttps://finance.yahoo.com/news/tesla-stock-higher-on-robotaxi-momentum-musk-trump-feud-cooling-140045751.html HTTPSConnectionPool(host='finance.yahoo.comhttps', port=443): Max retries exceeded with url: //finance.yahoo.com/news/tesla-stock-higher-on-robotaxi-momentum-musk-trump-feud-cooling-140045751.html (Caused by NameResolutionError(\"<urllib3.connection.HTTPSConnection object at 0x7fe5b71d09d0>: Failed to resolve 'finance.yahoo.comhttps' ([Errno -2] Name or service not known)\"))\n",
            "ERROR:trafilatura.downloads:download error: https://finance.yahoo.comhttps://finance.yahoo.com/news/live/stock-market-today-dow-sp-500-nasdaq-little-changed-in-wait-for-clues-on-us-china-trade-talks-163747528.html HTTPSConnectionPool(host='finance.yahoo.comhttps', port=443): Max retries exceeded with url: //finance.yahoo.com/news/live/stock-market-today-dow-sp-500-nasdaq-little-changed-in-wait-for-clues-on-us-china-trade-talks-163747528.html (Caused by NameResolutionError(\"<urllib3.connection.HTTPSConnection object at 0x7fe5b71d0390>: Failed to resolve 'finance.yahoo.comhttps' ([Errno -2] Name or service not known)\"))\n",
            "ERROR:trafilatura.downloads:download error: https://finance.yahoo.comhttps://finance.yahoo.com/news/apples-ipad-is-about-to-get-a-lot-more-useful-213640019.html HTTPSConnectionPool(host='finance.yahoo.comhttps', port=443): Max retries exceeded with url: //finance.yahoo.com/news/apples-ipad-is-about-to-get-a-lot-more-useful-213640019.html (Caused by NameResolutionError(\"<urllib3.connection.HTTPSConnection object at 0x7fe5b71c08d0>: Failed to resolve 'finance.yahoo.comhttps' ([Errno -2] Name or service not known)\"))\n",
            "ERROR:trafilatura.downloads:download error: https://finance.yahoo.comhttps://finance.yahoo.com/news/bessent-emerges-possible-contender-succeed-171503315.html HTTPSConnectionPool(host='finance.yahoo.comhttps', port=443): Max retries exceeded with url: //finance.yahoo.com/news/bessent-emerges-possible-contender-succeed-171503315.html (Caused by NameResolutionError(\"<urllib3.connection.HTTPSConnection object at 0x7fe5b71d1f90>: Failed to resolve 'finance.yahoo.comhttps' ([Errno -2] Name or service not known)\"))\n",
            "ERROR:trafilatura.downloads:download error: https://finance.yahoo.comhttps://finance.yahoo.com/news/china-only-3-6-months-181941022.html HTTPSConnectionPool(host='finance.yahoo.comhttps', port=443): Max retries exceeded with url: //finance.yahoo.com/news/china-only-3-6-months-181941022.html (Caused by NameResolutionError(\"<urllib3.connection.HTTPSConnection object at 0x7fe5b71d21d0>: Failed to resolve 'finance.yahoo.comhttps' ([Errno -2] Name or service not known)\"))\n",
            "ERROR:trafilatura.downloads:download error: https://finance.yahoo.comhttps://finance.yahoo.com/news/drug-pricing-reform-talks-us-180330003.html HTTPSConnectionPool(host='finance.yahoo.comhttps', port=443): Max retries exceeded with url: //finance.yahoo.com/news/drug-pricing-reform-talks-us-180330003.html (Caused by NameResolutionError(\"<urllib3.connection.HTTPSConnection object at 0x7fe5b71d0cd0>: Failed to resolve 'finance.yahoo.comhttps' ([Errno -2] Name or service not known)\"))\n",
            "ERROR:trafilatura.downloads:download error: https://finance.yahoo.comhttps://finance.yahoo.com/news/ibm-just-took-a-significant-step-toward-useful-quantum-computing-100048784.html HTTPSConnectionPool(host='finance.yahoo.comhttps', port=443): Max retries exceeded with url: //finance.yahoo.com/news/ibm-just-took-a-significant-step-toward-useful-quantum-computing-100048784.html (Caused by NameResolutionError(\"<urllib3.connection.HTTPSConnection object at 0x7fe5b73939d0>: Failed to resolve 'finance.yahoo.comhttps' ([Errno -2] Name or service not known)\"))\n",
            "ERROR:trafilatura.downloads:download error: https://finance.yahoo.comhttps://finance.yahoo.com/news/meta-pay-nearly-15-billion-171801208.html HTTPSConnectionPool(host='finance.yahoo.comhttps', port=443): Max retries exceeded with url: //finance.yahoo.com/news/meta-pay-nearly-15-billion-171801208.html (Caused by NameResolutionError(\"<urllib3.connection.HTTPSConnection object at 0x7fe5b71c0950>: Failed to resolve 'finance.yahoo.comhttps' ([Errno -2] Name or service not known)\"))\n",
            "ERROR:trafilatura.downloads:download error: https://finance.yahoo.comhttps://finance.yahoo.com/news/musks-starlink-plans-satellite-switzerland-170555262.html HTTPSConnectionPool(host='finance.yahoo.comhttps', port=443): Max retries exceeded with url: //finance.yahoo.com/news/musks-starlink-plans-satellite-switzerland-170555262.html (Caused by NameResolutionError(\"<urllib3.connection.HTTPSConnection object at 0x7fe5b73946d0>: Failed to resolve 'finance.yahoo.comhttps' ([Errno -2] Name or service not known)\"))\n",
            "ERROR:trafilatura.downloads:download error: https://finance.yahoo.comhttps://finance.yahoo.com/news/bitcoin-climbs-as-companies-increasingly-use-tokens-to-hedge-against-inflation-170945371.html HTTPSConnectionPool(host='finance.yahoo.comhttps', port=443): Max retries exceeded with url: //finance.yahoo.com/news/bitcoin-climbs-as-companies-increasingly-use-tokens-to-hedge-against-inflation-170945371.html (Caused by NameResolutionError(\"<urllib3.connection.HTTPSConnection object at 0x7fe5b5d857d0>: Failed to resolve 'finance.yahoo.comhttps' ([Errno -2] Name or service not known)\"))\n",
            "ERROR:trafilatura.downloads:download error: https://finance.yahoo.comhttps://finance.yahoo.com/news/brazils-fiscal-package-higher-tax-184741276.html HTTPSConnectionPool(host='finance.yahoo.comhttps', port=443): Max retries exceeded with url: //finance.yahoo.com/news/brazils-fiscal-package-higher-tax-184741276.html (Caused by NameResolutionError(\"<urllib3.connection.HTTPSConnection object at 0x7fe5b71d26d0>: Failed to resolve 'finance.yahoo.comhttps' ([Errno -2] Name or service not known)\"))\n",
            "ERROR:trafilatura.downloads:download error: https://finance.yahoo.comhttps://finance.yahoo.com/news/trump-energy-dominance-push-helped-110000586.html HTTPSConnectionPool(host='finance.yahoo.comhttps', port=443): Max retries exceeded with url: //finance.yahoo.com/news/trump-energy-dominance-push-helped-110000586.html (Caused by NameResolutionError(\"<urllib3.connection.HTTPSConnection object at 0x7fe5b71d3910>: Failed to resolve 'finance.yahoo.comhttps' ([Errno -2] Name or service not known)\"))\n",
            "ERROR:trafilatura.downloads:download error: https://finance.yahoo.comhttps://finance.yahoo.com/news/moodys-flags-risks-retail-investors-183336594.html HTTPSConnectionPool(host='finance.yahoo.comhttps', port=443): Max retries exceeded with url: //finance.yahoo.com/news/moodys-flags-risks-retail-investors-183336594.html (Caused by NameResolutionError(\"<urllib3.connection.HTTPSConnection object at 0x7fe5b71d3b10>: Failed to resolve 'finance.yahoo.comhttps' ([Errno -2] Name or service not known)\"))\n",
            "ERROR:trafilatura.downloads:download error: https://finance.yahoo.comhttps://finance.yahoo.com/news/gold-steadies-us-china-trade-100713670.html HTTPSConnectionPool(host='finance.yahoo.comhttps', port=443): Max retries exceeded with url: //finance.yahoo.com/news/gold-steadies-us-china-trade-100713670.html (Caused by NameResolutionError(\"<urllib3.connection.HTTPSConnection object at 0x7fe5b71d1250>: Failed to resolve 'finance.yahoo.comhttps' ([Errno -2] Name or service not known)\"))\n",
            "ERROR:trafilatura.downloads:download error: https://finance.yahoo.comhttps://finance.yahoo.com/news/us-says-trade-talks-china-101250252.html HTTPSConnectionPool(host='finance.yahoo.comhttps', port=443): Max retries exceeded with url: //finance.yahoo.com/news/us-says-trade-talks-china-101250252.html (Caused by NameResolutionError(\"<urllib3.connection.HTTPSConnection object at 0x7fe5b71c0a50>: Failed to resolve 'finance.yahoo.comhttps' ([Errno -2] Name or service not known)\"))\n",
            "ERROR:trafilatura.downloads:download error: https://finance.yahoo.comhttps://finance.yahoo.com/news/us-energy-loan-office-fund-181503597.html HTTPSConnectionPool(host='finance.yahoo.comhttps', port=443): Max retries exceeded with url: //finance.yahoo.com/news/us-energy-loan-office-fund-181503597.html (Caused by NameResolutionError(\"<urllib3.connection.HTTPSConnection object at 0x7fe5b71c1790>: Failed to resolve 'finance.yahoo.comhttps' ([Errno -2] Name or service not known)\"))\n",
            "ERROR:trafilatura.downloads:download error: https://finance.yahoo.comhttps://finance.yahoo.com/news/pete-hegseth-heated-exchange-over-170658778.html HTTPSConnectionPool(host='finance.yahoo.comhttps', port=443): Max retries exceeded with url: //finance.yahoo.com/news/pete-hegseth-heated-exchange-over-170658778.html (Caused by NameResolutionError(\"<urllib3.connection.HTTPSConnection object at 0x7fe5b71c1cd0>: Failed to resolve 'finance.yahoo.comhttps' ([Errno -2] Name or service not known)\"))\n",
            "ERROR:trafilatura.downloads:download error: https://finance.yahoo.comhttps://finance.yahoo.com/news/bessent-emerges-possible-contender-succeed-175221389.html HTTPSConnectionPool(host='finance.yahoo.comhttps', port=443): Max retries exceeded with url: //finance.yahoo.com/news/bessent-emerges-possible-contender-succeed-175221389.html (Caused by NameResolutionError(\"<urllib3.connection.HTTPSConnection object at 0x7fe5b71c2590>: Failed to resolve 'finance.yahoo.comhttps' ([Errno -2] Name or service not known)\"))\n",
            "ERROR:trafilatura.downloads:download error: https://finance.yahoo.comhttps://finance.yahoo.com/news/cousins-maine-lobster-plans-100th-095813494.html HTTPSConnectionPool(host='finance.yahoo.comhttps', port=443): Max retries exceeded with url: //finance.yahoo.com/news/cousins-maine-lobster-plans-100th-095813494.html (Caused by NameResolutionError(\"<urllib3.connection.HTTPSConnection object at 0x7fe5b71c2ad0>: Failed to resolve 'finance.yahoo.comhttps' ([Errno -2] Name or service not known)\"))\n",
            "ERROR:trafilatura.downloads:download error: https://finance.yahoo.comhttps://finance.yahoo.com/news/proxy-warfare-100000329.html HTTPSConnectionPool(host='finance.yahoo.comhttps', port=443): Max retries exceeded with url: //finance.yahoo.com/news/proxy-warfare-100000329.html (Caused by NameResolutionError(\"<urllib3.connection.HTTPSConnection object at 0x7fe5b71c31d0>: Failed to resolve 'finance.yahoo.comhttps' ([Errno -2] Name or service not known)\"))\n"
          ]
        },
        {
          "output_type": "stream",
          "name": "stdout",
          "text": [
            "Fetching MarketWatch...\n",
            "Fetching Forbes...\n"
          ]
        },
        {
          "output_type": "stream",
          "name": "stderr",
          "text": [
            "ERROR:trafilatura.downloads:not a 200 response: 404 for URL https://www.forbes.com/sites/kenny-rivera/\n"
          ]
        },
        {
          "output_type": "stream",
          "name": "stdout",
          "text": [
            "Fetching Business Insider...\n",
            "<class 'pandas.core.frame.DataFrame'>\n",
            "Index: 115 entries, 0 to 117\n",
            "Data columns (total 5 columns):\n",
            " #   Column     Non-Null Count  Dtype \n",
            "---  ------     --------------  ----- \n",
            " 0   source     115 non-null    object\n",
            " 1   title      115 non-null    object\n",
            " 2   url        115 non-null    object\n",
            " 3   published  30 non-null     object\n",
            " 4   content    75 non-null     object\n",
            "dtypes: object(5)\n",
            "memory usage: 5.4+ KB\n"
          ]
        },
        {
          "output_type": "execute_result",
          "data": {
            "text/plain": [
              "(None, 'financial_news_2025-06-10_19-00.csv')"
            ]
          },
          "metadata": {},
          "execution_count": 24
        }
      ]
    },
    {
      "cell_type": "code",
      "source": [
        "df.info()"
      ],
      "metadata": {
        "colab": {
          "base_uri": "https://localhost:8080/"
        },
        "id": "5dnXB4aSL9h1",
        "outputId": "1526a6e2-5111-45a3-a575-2ce19ceb3479"
      },
      "execution_count": 20,
      "outputs": [
        {
          "output_type": "stream",
          "name": "stdout",
          "text": [
            "<class 'pandas.core.frame.DataFrame'>\n",
            "Index: 117 entries, 0 to 119\n",
            "Data columns (total 5 columns):\n",
            " #   Column     Non-Null Count  Dtype \n",
            "---  ------     --------------  ----- \n",
            " 0   source     117 non-null    object\n",
            " 1   title      117 non-null    object\n",
            " 2   url        117 non-null    object\n",
            " 3   published  30 non-null     object\n",
            " 4   content    76 non-null     object\n",
            "dtypes: object(5)\n",
            "memory usage: 5.5+ KB\n"
          ]
        }
      ]
    },
    {
      "cell_type": "code",
      "source": [
        "df_clean = df.dropna(subset=['content'])\n",
        "\n",
        "\n",
        "df_clean['content'] = df_clean['content'].str.strip()\n",
        "df_clean['title'] = df_clean['title'].str.strip()\n",
        "\n",
        "\n",
        "df_clean = df_clean.drop_duplicates(subset=['url'])\n",
        "df_clean = df_clean.drop_duplicates(subset=['title'])\n",
        "\n",
        "df_clean['content'] = df_clean['content'].apply(lambda x: x.encode('ascii', errors='ignore').decode())\n",
        "\n",
        "\n",
        "df_clean.reset_index(drop=True, inplace=True)\n",
        "\n",
        "\n",
        "print(df_clean.info())\n",
        "print(df_clean[['source', 'title']].head())\n",
        "\n",
        "\n",
        "clean_csv = f\"/mnt/data/cleaned_news_{datetime.now().strftime('%Y-%m-%d_%H-%M')}.csv\"\n",
        "\n"
      ],
      "metadata": {
        "colab": {
          "base_uri": "https://localhost:8080/"
        },
        "id": "9qhlrNYtL_xw",
        "outputId": "3de0d732-a889-4706-c738-5bbbade7a004"
      },
      "execution_count": 25,
      "outputs": [
        {
          "output_type": "stream",
          "name": "stdout",
          "text": [
            "<class 'pandas.core.frame.DataFrame'>\n",
            "RangeIndex: 75 entries, 0 to 74\n",
            "Data columns (total 5 columns):\n",
            " #   Column     Non-Null Count  Dtype \n",
            "---  ------     --------------  ----- \n",
            " 0   source     75 non-null     object\n",
            " 1   title      75 non-null     object\n",
            " 2   url        75 non-null     object\n",
            " 3   published  30 non-null     object\n",
            " 4   content    75 non-null     object\n",
            "dtypes: object(5)\n",
            "memory usage: 3.1+ KB\n",
            "None\n",
            "  source                                              title\n",
            "0   CNBC  Apple's WWDC underwhelms on AI, but software g...\n",
            "1   CNBC  Google overhauls internal learning platform to...\n",
            "2   CNBC  Inflation readings and Treasury auctions to te...\n",
            "3   CNBC  California asks judge to quickly block Trump t...\n",
            "4   CNBC  RFK Jr.'s firing of CDC vaccine panel undermin...\n"
          ]
        },
        {
          "output_type": "stream",
          "name": "stderr",
          "text": [
            "<ipython-input-25-1088489870>:4: SettingWithCopyWarning: \n",
            "A value is trying to be set on a copy of a slice from a DataFrame.\n",
            "Try using .loc[row_indexer,col_indexer] = value instead\n",
            "\n",
            "See the caveats in the documentation: https://pandas.pydata.org/pandas-docs/stable/user_guide/indexing.html#returning-a-view-versus-a-copy\n",
            "  df_clean['content'] = df_clean['content'].str.strip()\n",
            "<ipython-input-25-1088489870>:5: SettingWithCopyWarning: \n",
            "A value is trying to be set on a copy of a slice from a DataFrame.\n",
            "Try using .loc[row_indexer,col_indexer] = value instead\n",
            "\n",
            "See the caveats in the documentation: https://pandas.pydata.org/pandas-docs/stable/user_guide/indexing.html#returning-a-view-versus-a-copy\n",
            "  df_clean['title'] = df_clean['title'].str.strip()\n"
          ]
        }
      ]
    },
    {
      "cell_type": "code",
      "source": [
        "df_clean.info()"
      ],
      "metadata": {
        "colab": {
          "base_uri": "https://localhost:8080/"
        },
        "id": "w7TbN8x2L_u_",
        "outputId": "62ec513a-9351-4525-f25c-177b12d24660"
      },
      "execution_count": 26,
      "outputs": [
        {
          "output_type": "stream",
          "name": "stdout",
          "text": [
            "<class 'pandas.core.frame.DataFrame'>\n",
            "RangeIndex: 75 entries, 0 to 74\n",
            "Data columns (total 5 columns):\n",
            " #   Column     Non-Null Count  Dtype \n",
            "---  ------     --------------  ----- \n",
            " 0   source     75 non-null     object\n",
            " 1   title      75 non-null     object\n",
            " 2   url        75 non-null     object\n",
            " 3   published  30 non-null     object\n",
            " 4   content    75 non-null     object\n",
            "dtypes: object(5)\n",
            "memory usage: 3.1+ KB\n"
          ]
        }
      ]
    },
    {
      "cell_type": "code",
      "source": [],
      "metadata": {
        "id": "Ap-O2NJkPEgo"
      },
      "execution_count": 10,
      "outputs": []
    },
    {
      "cell_type": "markdown",
      "source": [
        "FinBERT Sentiment Classification on Financial News"
      ],
      "metadata": {
        "id": "q3-82EyQU811"
      }
    },
    {
      "cell_type": "code",
      "source": [
        "pip install transformers accelerate datasets\n"
      ],
      "metadata": {
        "colab": {
          "base_uri": "https://localhost:8080/"
        },
        "id": "Hmp7mYQgPEeW",
        "outputId": "942aebcb-f1ac-4b25-fba7-108dcf3a82b1"
      },
      "execution_count": 2,
      "outputs": [
        {
          "output_type": "stream",
          "name": "stdout",
          "text": [
            "Requirement already satisfied: transformers in /usr/local/lib/python3.11/dist-packages (4.52.4)\n",
            "Requirement already satisfied: accelerate in /usr/local/lib/python3.11/dist-packages (1.7.0)\n",
            "Requirement already satisfied: datasets in /usr/local/lib/python3.11/dist-packages (2.14.4)\n",
            "Requirement already satisfied: filelock in /usr/local/lib/python3.11/dist-packages (from transformers) (3.18.0)\n",
            "Requirement already satisfied: huggingface-hub<1.0,>=0.30.0 in /usr/local/lib/python3.11/dist-packages (from transformers) (0.32.4)\n",
            "Requirement already satisfied: numpy>=1.17 in /usr/local/lib/python3.11/dist-packages (from transformers) (2.0.2)\n",
            "Requirement already satisfied: packaging>=20.0 in /usr/local/lib/python3.11/dist-packages (from transformers) (24.2)\n",
            "Requirement already satisfied: pyyaml>=5.1 in /usr/local/lib/python3.11/dist-packages (from transformers) (6.0.2)\n",
            "Requirement already satisfied: regex!=2019.12.17 in /usr/local/lib/python3.11/dist-packages (from transformers) (2024.11.6)\n",
            "Requirement already satisfied: requests in /usr/local/lib/python3.11/dist-packages (from transformers) (2.32.3)\n",
            "Requirement already satisfied: tokenizers<0.22,>=0.21 in /usr/local/lib/python3.11/dist-packages (from transformers) (0.21.1)\n",
            "Requirement already satisfied: safetensors>=0.4.3 in /usr/local/lib/python3.11/dist-packages (from transformers) (0.5.3)\n",
            "Requirement already satisfied: tqdm>=4.27 in /usr/local/lib/python3.11/dist-packages (from transformers) (4.67.1)\n",
            "Requirement already satisfied: psutil in /usr/local/lib/python3.11/dist-packages (from accelerate) (5.9.5)\n",
            "Requirement already satisfied: torch>=2.0.0 in /usr/local/lib/python3.11/dist-packages (from accelerate) (2.6.0+cu124)\n",
            "Requirement already satisfied: pyarrow>=8.0.0 in /usr/local/lib/python3.11/dist-packages (from datasets) (18.1.0)\n",
            "Requirement already satisfied: dill<0.3.8,>=0.3.0 in /usr/local/lib/python3.11/dist-packages (from datasets) (0.3.7)\n",
            "Requirement already satisfied: pandas in /usr/local/lib/python3.11/dist-packages (from datasets) (2.2.2)\n",
            "Requirement already satisfied: xxhash in /usr/local/lib/python3.11/dist-packages (from datasets) (3.5.0)\n",
            "Requirement already satisfied: multiprocess in /usr/local/lib/python3.11/dist-packages (from datasets) (0.70.15)\n",
            "Requirement already satisfied: fsspec>=2021.11.1 in /usr/local/lib/python3.11/dist-packages (from fsspec[http]>=2021.11.1->datasets) (2025.3.2)\n",
            "Requirement already satisfied: aiohttp in /usr/local/lib/python3.11/dist-packages (from datasets) (3.11.15)\n",
            "Requirement already satisfied: aiohappyeyeballs>=2.3.0 in /usr/local/lib/python3.11/dist-packages (from aiohttp->datasets) (2.6.1)\n",
            "Requirement already satisfied: aiosignal>=1.1.2 in /usr/local/lib/python3.11/dist-packages (from aiohttp->datasets) (1.3.2)\n",
            "Requirement already satisfied: attrs>=17.3.0 in /usr/local/lib/python3.11/dist-packages (from aiohttp->datasets) (25.3.0)\n",
            "Requirement already satisfied: frozenlist>=1.1.1 in /usr/local/lib/python3.11/dist-packages (from aiohttp->datasets) (1.6.0)\n",
            "Requirement already satisfied: multidict<7.0,>=4.5 in /usr/local/lib/python3.11/dist-packages (from aiohttp->datasets) (6.4.4)\n",
            "Requirement already satisfied: propcache>=0.2.0 in /usr/local/lib/python3.11/dist-packages (from aiohttp->datasets) (0.3.1)\n",
            "Requirement already satisfied: yarl<2.0,>=1.17.0 in /usr/local/lib/python3.11/dist-packages (from aiohttp->datasets) (1.20.0)\n",
            "Requirement already satisfied: typing-extensions>=3.7.4.3 in /usr/local/lib/python3.11/dist-packages (from huggingface-hub<1.0,>=0.30.0->transformers) (4.14.0)\n",
            "Requirement already satisfied: hf-xet<2.0.0,>=1.1.2 in /usr/local/lib/python3.11/dist-packages (from huggingface-hub<1.0,>=0.30.0->transformers) (1.1.2)\n",
            "Requirement already satisfied: charset-normalizer<4,>=2 in /usr/local/lib/python3.11/dist-packages (from requests->transformers) (3.4.2)\n",
            "Requirement already satisfied: idna<4,>=2.5 in /usr/local/lib/python3.11/dist-packages (from requests->transformers) (3.10)\n",
            "Requirement already satisfied: urllib3<3,>=1.21.1 in /usr/local/lib/python3.11/dist-packages (from requests->transformers) (2.4.0)\n",
            "Requirement already satisfied: certifi>=2017.4.17 in /usr/local/lib/python3.11/dist-packages (from requests->transformers) (2025.4.26)\n",
            "Requirement already satisfied: networkx in /usr/local/lib/python3.11/dist-packages (from torch>=2.0.0->accelerate) (3.5)\n",
            "Requirement already satisfied: jinja2 in /usr/local/lib/python3.11/dist-packages (from torch>=2.0.0->accelerate) (3.1.6)\n",
            "Collecting nvidia-cuda-nvrtc-cu12==12.4.127 (from torch>=2.0.0->accelerate)\n",
            "  Downloading nvidia_cuda_nvrtc_cu12-12.4.127-py3-none-manylinux2014_x86_64.whl.metadata (1.5 kB)\n",
            "Collecting nvidia-cuda-runtime-cu12==12.4.127 (from torch>=2.0.0->accelerate)\n",
            "  Downloading nvidia_cuda_runtime_cu12-12.4.127-py3-none-manylinux2014_x86_64.whl.metadata (1.5 kB)\n",
            "Collecting nvidia-cuda-cupti-cu12==12.4.127 (from torch>=2.0.0->accelerate)\n",
            "  Downloading nvidia_cuda_cupti_cu12-12.4.127-py3-none-manylinux2014_x86_64.whl.metadata (1.6 kB)\n",
            "Collecting nvidia-cudnn-cu12==9.1.0.70 (from torch>=2.0.0->accelerate)\n",
            "  Downloading nvidia_cudnn_cu12-9.1.0.70-py3-none-manylinux2014_x86_64.whl.metadata (1.6 kB)\n",
            "Collecting nvidia-cublas-cu12==12.4.5.8 (from torch>=2.0.0->accelerate)\n",
            "  Downloading nvidia_cublas_cu12-12.4.5.8-py3-none-manylinux2014_x86_64.whl.metadata (1.5 kB)\n",
            "Collecting nvidia-cufft-cu12==11.2.1.3 (from torch>=2.0.0->accelerate)\n",
            "  Downloading nvidia_cufft_cu12-11.2.1.3-py3-none-manylinux2014_x86_64.whl.metadata (1.5 kB)\n",
            "Collecting nvidia-curand-cu12==10.3.5.147 (from torch>=2.0.0->accelerate)\n",
            "  Downloading nvidia_curand_cu12-10.3.5.147-py3-none-manylinux2014_x86_64.whl.metadata (1.5 kB)\n",
            "Collecting nvidia-cusolver-cu12==11.6.1.9 (from torch>=2.0.0->accelerate)\n",
            "  Downloading nvidia_cusolver_cu12-11.6.1.9-py3-none-manylinux2014_x86_64.whl.metadata (1.6 kB)\n",
            "Collecting nvidia-cusparse-cu12==12.3.1.170 (from torch>=2.0.0->accelerate)\n",
            "  Downloading nvidia_cusparse_cu12-12.3.1.170-py3-none-manylinux2014_x86_64.whl.metadata (1.6 kB)\n",
            "Requirement already satisfied: nvidia-cusparselt-cu12==0.6.2 in /usr/local/lib/python3.11/dist-packages (from torch>=2.0.0->accelerate) (0.6.2)\n",
            "Requirement already satisfied: nvidia-nccl-cu12==2.21.5 in /usr/local/lib/python3.11/dist-packages (from torch>=2.0.0->accelerate) (2.21.5)\n",
            "Requirement already satisfied: nvidia-nvtx-cu12==12.4.127 in /usr/local/lib/python3.11/dist-packages (from torch>=2.0.0->accelerate) (12.4.127)\n",
            "Collecting nvidia-nvjitlink-cu12==12.4.127 (from torch>=2.0.0->accelerate)\n",
            "  Downloading nvidia_nvjitlink_cu12-12.4.127-py3-none-manylinux2014_x86_64.whl.metadata (1.5 kB)\n",
            "Requirement already satisfied: triton==3.2.0 in /usr/local/lib/python3.11/dist-packages (from torch>=2.0.0->accelerate) (3.2.0)\n",
            "Requirement already satisfied: sympy==1.13.1 in /usr/local/lib/python3.11/dist-packages (from torch>=2.0.0->accelerate) (1.13.1)\n",
            "Requirement already satisfied: mpmath<1.4,>=1.1.0 in /usr/local/lib/python3.11/dist-packages (from sympy==1.13.1->torch>=2.0.0->accelerate) (1.3.0)\n",
            "Requirement already satisfied: python-dateutil>=2.8.2 in /usr/local/lib/python3.11/dist-packages (from pandas->datasets) (2.9.0.post0)\n",
            "Requirement already satisfied: pytz>=2020.1 in /usr/local/lib/python3.11/dist-packages (from pandas->datasets) (2025.2)\n",
            "Requirement already satisfied: tzdata>=2022.7 in /usr/local/lib/python3.11/dist-packages (from pandas->datasets) (2025.2)\n",
            "Requirement already satisfied: six>=1.5 in /usr/local/lib/python3.11/dist-packages (from python-dateutil>=2.8.2->pandas->datasets) (1.17.0)\n",
            "Requirement already satisfied: MarkupSafe>=2.0 in /usr/local/lib/python3.11/dist-packages (from jinja2->torch>=2.0.0->accelerate) (3.0.2)\n",
            "Downloading nvidia_cublas_cu12-12.4.5.8-py3-none-manylinux2014_x86_64.whl (363.4 MB)\n",
            "\u001b[2K   \u001b[90m━━━━━━━━━━━━━━━━━━━━━━━━━━━━━━━━━━━━━━━━\u001b[0m \u001b[32m363.4/363.4 MB\u001b[0m \u001b[31m3.8 MB/s\u001b[0m eta \u001b[36m0:00:00\u001b[0m\n",
            "\u001b[?25hDownloading nvidia_cuda_cupti_cu12-12.4.127-py3-none-manylinux2014_x86_64.whl (13.8 MB)\n",
            "\u001b[2K   \u001b[90m━━━━━━━━━━━━━━━━━━━━━━━━━━━━━━━━━━━━━━━━\u001b[0m \u001b[32m13.8/13.8 MB\u001b[0m \u001b[31m58.0 MB/s\u001b[0m eta \u001b[36m0:00:00\u001b[0m\n",
            "\u001b[?25hDownloading nvidia_cuda_nvrtc_cu12-12.4.127-py3-none-manylinux2014_x86_64.whl (24.6 MB)\n",
            "\u001b[2K   \u001b[90m━━━━━━━━━━━━━━━━━━━━━━━━━━━━━━━━━━━━━━━━\u001b[0m \u001b[32m24.6/24.6 MB\u001b[0m \u001b[31m34.3 MB/s\u001b[0m eta \u001b[36m0:00:00\u001b[0m\n",
            "\u001b[?25hDownloading nvidia_cuda_runtime_cu12-12.4.127-py3-none-manylinux2014_x86_64.whl (883 kB)\n",
            "\u001b[2K   \u001b[90m━━━━━━━━━━━━━━━━━━━━━━━━━━━━━━━━━━━━━━━━\u001b[0m \u001b[32m883.7/883.7 kB\u001b[0m \u001b[31m28.2 MB/s\u001b[0m eta \u001b[36m0:00:00\u001b[0m\n",
            "\u001b[?25hDownloading nvidia_cudnn_cu12-9.1.0.70-py3-none-manylinux2014_x86_64.whl (664.8 MB)\n",
            "\u001b[2K   \u001b[90m━━━━━━━━━━━━━━━━━━━━━━━━━━━━━━━━━━━━━━━━\u001b[0m \u001b[32m664.8/664.8 MB\u001b[0m \u001b[31m1.7 MB/s\u001b[0m eta \u001b[36m0:00:00\u001b[0m\n",
            "\u001b[?25hDownloading nvidia_cufft_cu12-11.2.1.3-py3-none-manylinux2014_x86_64.whl (211.5 MB)\n",
            "\u001b[2K   \u001b[90m━━━━━━━━━━━━━━━━━━━━━━━━━━━━━━━━━━━━━━━━\u001b[0m \u001b[32m211.5/211.5 MB\u001b[0m \u001b[31m5.6 MB/s\u001b[0m eta \u001b[36m0:00:00\u001b[0m\n",
            "\u001b[?25hDownloading nvidia_curand_cu12-10.3.5.147-py3-none-manylinux2014_x86_64.whl (56.3 MB)\n",
            "\u001b[2K   \u001b[90m━━━━━━━━━━━━━━━━━━━━━━━━━━━━━━━━━━━━━━━━\u001b[0m \u001b[32m56.3/56.3 MB\u001b[0m \u001b[31m11.7 MB/s\u001b[0m eta \u001b[36m0:00:00\u001b[0m\n",
            "\u001b[?25hDownloading nvidia_cusolver_cu12-11.6.1.9-py3-none-manylinux2014_x86_64.whl (127.9 MB)\n",
            "\u001b[2K   \u001b[90m━━━━━━━━━━━━━━━━━━━━━━━━━━━━━━━━━━━━━━━━\u001b[0m \u001b[32m127.9/127.9 MB\u001b[0m \u001b[31m6.7 MB/s\u001b[0m eta \u001b[36m0:00:00\u001b[0m\n",
            "\u001b[?25hDownloading nvidia_cusparse_cu12-12.3.1.170-py3-none-manylinux2014_x86_64.whl (207.5 MB)\n",
            "\u001b[2K   \u001b[90m━━━━━━━━━━━━━━━━━━━━━━━━━━━━━━━━━━━━━━━━\u001b[0m \u001b[32m207.5/207.5 MB\u001b[0m \u001b[31m5.0 MB/s\u001b[0m eta \u001b[36m0:00:00\u001b[0m\n",
            "\u001b[?25hDownloading nvidia_nvjitlink_cu12-12.4.127-py3-none-manylinux2014_x86_64.whl (21.1 MB)\n",
            "\u001b[2K   \u001b[90m━━━━━━━━━━━━━━━━━━━━━━━━━━━━━━━━━━━━━━━━\u001b[0m \u001b[32m21.1/21.1 MB\u001b[0m \u001b[31m14.9 MB/s\u001b[0m eta \u001b[36m0:00:00\u001b[0m\n",
            "\u001b[?25hInstalling collected packages: nvidia-nvjitlink-cu12, nvidia-curand-cu12, nvidia-cufft-cu12, nvidia-cuda-runtime-cu12, nvidia-cuda-nvrtc-cu12, nvidia-cuda-cupti-cu12, nvidia-cublas-cu12, nvidia-cusparse-cu12, nvidia-cudnn-cu12, nvidia-cusolver-cu12\n",
            "  Attempting uninstall: nvidia-nvjitlink-cu12\n",
            "    Found existing installation: nvidia-nvjitlink-cu12 12.5.82\n",
            "    Uninstalling nvidia-nvjitlink-cu12-12.5.82:\n",
            "      Successfully uninstalled nvidia-nvjitlink-cu12-12.5.82\n",
            "  Attempting uninstall: nvidia-curand-cu12\n",
            "    Found existing installation: nvidia-curand-cu12 10.3.6.82\n",
            "    Uninstalling nvidia-curand-cu12-10.3.6.82:\n",
            "      Successfully uninstalled nvidia-curand-cu12-10.3.6.82\n",
            "  Attempting uninstall: nvidia-cufft-cu12\n",
            "    Found existing installation: nvidia-cufft-cu12 11.2.3.61\n",
            "    Uninstalling nvidia-cufft-cu12-11.2.3.61:\n",
            "      Successfully uninstalled nvidia-cufft-cu12-11.2.3.61\n",
            "  Attempting uninstall: nvidia-cuda-runtime-cu12\n",
            "    Found existing installation: nvidia-cuda-runtime-cu12 12.5.82\n",
            "    Uninstalling nvidia-cuda-runtime-cu12-12.5.82:\n",
            "      Successfully uninstalled nvidia-cuda-runtime-cu12-12.5.82\n",
            "  Attempting uninstall: nvidia-cuda-nvrtc-cu12\n",
            "    Found existing installation: nvidia-cuda-nvrtc-cu12 12.5.82\n",
            "    Uninstalling nvidia-cuda-nvrtc-cu12-12.5.82:\n",
            "      Successfully uninstalled nvidia-cuda-nvrtc-cu12-12.5.82\n",
            "  Attempting uninstall: nvidia-cuda-cupti-cu12\n",
            "    Found existing installation: nvidia-cuda-cupti-cu12 12.5.82\n",
            "    Uninstalling nvidia-cuda-cupti-cu12-12.5.82:\n",
            "      Successfully uninstalled nvidia-cuda-cupti-cu12-12.5.82\n",
            "  Attempting uninstall: nvidia-cublas-cu12\n",
            "    Found existing installation: nvidia-cublas-cu12 12.5.3.2\n",
            "    Uninstalling nvidia-cublas-cu12-12.5.3.2:\n",
            "      Successfully uninstalled nvidia-cublas-cu12-12.5.3.2\n",
            "  Attempting uninstall: nvidia-cusparse-cu12\n",
            "    Found existing installation: nvidia-cusparse-cu12 12.5.1.3\n",
            "    Uninstalling nvidia-cusparse-cu12-12.5.1.3:\n",
            "      Successfully uninstalled nvidia-cusparse-cu12-12.5.1.3\n",
            "  Attempting uninstall: nvidia-cudnn-cu12\n",
            "    Found existing installation: nvidia-cudnn-cu12 9.3.0.75\n",
            "    Uninstalling nvidia-cudnn-cu12-9.3.0.75:\n",
            "      Successfully uninstalled nvidia-cudnn-cu12-9.3.0.75\n",
            "  Attempting uninstall: nvidia-cusolver-cu12\n",
            "    Found existing installation: nvidia-cusolver-cu12 11.6.3.83\n",
            "    Uninstalling nvidia-cusolver-cu12-11.6.3.83:\n",
            "      Successfully uninstalled nvidia-cusolver-cu12-11.6.3.83\n",
            "Successfully installed nvidia-cublas-cu12-12.4.5.8 nvidia-cuda-cupti-cu12-12.4.127 nvidia-cuda-nvrtc-cu12-12.4.127 nvidia-cuda-runtime-cu12-12.4.127 nvidia-cudnn-cu12-9.1.0.70 nvidia-cufft-cu12-11.2.1.3 nvidia-curand-cu12-10.3.5.147 nvidia-cusolver-cu12-11.6.1.9 nvidia-cusparse-cu12-12.3.1.170 nvidia-nvjitlink-cu12-12.4.127\n"
          ]
        }
      ]
    },
    {
      "cell_type": "code",
      "source": [
        "!pip install -U transformers\n"
      ],
      "metadata": {
        "colab": {
          "base_uri": "https://localhost:8080/"
        },
        "id": "H4VZigevHHZZ",
        "outputId": "631a2e86-741d-4997-d5ea-c5d63efbf87b"
      },
      "execution_count": 6,
      "outputs": [
        {
          "output_type": "stream",
          "name": "stdout",
          "text": [
            "Requirement already satisfied: transformers in /usr/local/lib/python3.11/dist-packages (4.52.4)\n",
            "Requirement already satisfied: filelock in /usr/local/lib/python3.11/dist-packages (from transformers) (3.18.0)\n",
            "Requirement already satisfied: huggingface-hub<1.0,>=0.30.0 in /usr/local/lib/python3.11/dist-packages (from transformers) (0.32.4)\n",
            "Requirement already satisfied: numpy>=1.17 in /usr/local/lib/python3.11/dist-packages (from transformers) (2.0.2)\n",
            "Requirement already satisfied: packaging>=20.0 in /usr/local/lib/python3.11/dist-packages (from transformers) (24.2)\n",
            "Requirement already satisfied: pyyaml>=5.1 in /usr/local/lib/python3.11/dist-packages (from transformers) (6.0.2)\n",
            "Requirement already satisfied: regex!=2019.12.17 in /usr/local/lib/python3.11/dist-packages (from transformers) (2024.11.6)\n",
            "Requirement already satisfied: requests in /usr/local/lib/python3.11/dist-packages (from transformers) (2.32.3)\n",
            "Requirement already satisfied: tokenizers<0.22,>=0.21 in /usr/local/lib/python3.11/dist-packages (from transformers) (0.21.1)\n",
            "Requirement already satisfied: safetensors>=0.4.3 in /usr/local/lib/python3.11/dist-packages (from transformers) (0.5.3)\n",
            "Requirement already satisfied: tqdm>=4.27 in /usr/local/lib/python3.11/dist-packages (from transformers) (4.67.1)\n",
            "Requirement already satisfied: fsspec>=2023.5.0 in /usr/local/lib/python3.11/dist-packages (from huggingface-hub<1.0,>=0.30.0->transformers) (2025.3.2)\n",
            "Requirement already satisfied: typing-extensions>=3.7.4.3 in /usr/local/lib/python3.11/dist-packages (from huggingface-hub<1.0,>=0.30.0->transformers) (4.14.0)\n",
            "Requirement already satisfied: hf-xet<2.0.0,>=1.1.2 in /usr/local/lib/python3.11/dist-packages (from huggingface-hub<1.0,>=0.30.0->transformers) (1.1.2)\n",
            "Requirement already satisfied: charset-normalizer<4,>=2 in /usr/local/lib/python3.11/dist-packages (from requests->transformers) (3.4.2)\n",
            "Requirement already satisfied: idna<4,>=2.5 in /usr/local/lib/python3.11/dist-packages (from requests->transformers) (3.10)\n",
            "Requirement already satisfied: urllib3<3,>=1.21.1 in /usr/local/lib/python3.11/dist-packages (from requests->transformers) (2.4.0)\n",
            "Requirement already satisfied: certifi>=2017.4.17 in /usr/local/lib/python3.11/dist-packages (from requests->transformers) (2025.4.26)\n"
          ]
        }
      ]
    },
    {
      "cell_type": "code",
      "source": [
        "pip install torch\n"
      ],
      "metadata": {
        "colab": {
          "base_uri": "https://localhost:8080/"
        },
        "id": "-G2hzQ0hLkY8",
        "outputId": "8ba6e124-ccd9-4ae1-ca7d-07d813216eff"
      },
      "execution_count": 9,
      "outputs": [
        {
          "output_type": "stream",
          "name": "stdout",
          "text": [
            "Requirement already satisfied: torch in /usr/local/lib/python3.11/dist-packages (2.6.0+cu124)\n",
            "Requirement already satisfied: filelock in /usr/local/lib/python3.11/dist-packages (from torch) (3.18.0)\n",
            "Requirement already satisfied: typing-extensions>=4.10.0 in /usr/local/lib/python3.11/dist-packages (from torch) (4.14.0)\n",
            "Requirement already satisfied: networkx in /usr/local/lib/python3.11/dist-packages (from torch) (3.5)\n",
            "Requirement already satisfied: jinja2 in /usr/local/lib/python3.11/dist-packages (from torch) (3.1.6)\n",
            "Requirement already satisfied: fsspec in /usr/local/lib/python3.11/dist-packages (from torch) (2025.3.2)\n",
            "Requirement already satisfied: nvidia-cuda-nvrtc-cu12==12.4.127 in /usr/local/lib/python3.11/dist-packages (from torch) (12.4.127)\n",
            "Requirement already satisfied: nvidia-cuda-runtime-cu12==12.4.127 in /usr/local/lib/python3.11/dist-packages (from torch) (12.4.127)\n",
            "Requirement already satisfied: nvidia-cuda-cupti-cu12==12.4.127 in /usr/local/lib/python3.11/dist-packages (from torch) (12.4.127)\n",
            "Requirement already satisfied: nvidia-cudnn-cu12==9.1.0.70 in /usr/local/lib/python3.11/dist-packages (from torch) (9.1.0.70)\n",
            "Requirement already satisfied: nvidia-cublas-cu12==12.4.5.8 in /usr/local/lib/python3.11/dist-packages (from torch) (12.4.5.8)\n",
            "Requirement already satisfied: nvidia-cufft-cu12==11.2.1.3 in /usr/local/lib/python3.11/dist-packages (from torch) (11.2.1.3)\n",
            "Requirement already satisfied: nvidia-curand-cu12==10.3.5.147 in /usr/local/lib/python3.11/dist-packages (from torch) (10.3.5.147)\n",
            "Requirement already satisfied: nvidia-cusolver-cu12==11.6.1.9 in /usr/local/lib/python3.11/dist-packages (from torch) (11.6.1.9)\n",
            "Requirement already satisfied: nvidia-cusparse-cu12==12.3.1.170 in /usr/local/lib/python3.11/dist-packages (from torch) (12.3.1.170)\n",
            "Requirement already satisfied: nvidia-cusparselt-cu12==0.6.2 in /usr/local/lib/python3.11/dist-packages (from torch) (0.6.2)\n",
            "Requirement already satisfied: nvidia-nccl-cu12==2.21.5 in /usr/local/lib/python3.11/dist-packages (from torch) (2.21.5)\n",
            "Requirement already satisfied: nvidia-nvtx-cu12==12.4.127 in /usr/local/lib/python3.11/dist-packages (from torch) (12.4.127)\n",
            "Requirement already satisfied: nvidia-nvjitlink-cu12==12.4.127 in /usr/local/lib/python3.11/dist-packages (from torch) (12.4.127)\n",
            "Requirement already satisfied: triton==3.2.0 in /usr/local/lib/python3.11/dist-packages (from torch) (3.2.0)\n",
            "Requirement already satisfied: sympy==1.13.1 in /usr/local/lib/python3.11/dist-packages (from torch) (1.13.1)\n",
            "Requirement already satisfied: mpmath<1.4,>=1.1.0 in /usr/local/lib/python3.11/dist-packages (from sympy==1.13.1->torch) (1.3.0)\n",
            "Requirement already satisfied: MarkupSafe>=2.0 in /usr/local/lib/python3.11/dist-packages (from jinja2->torch) (3.0.2)\n"
          ]
        }
      ]
    },
    {
      "cell_type": "code",
      "source": [
        "pip install --upgrade \"transformers[torch]>=4.5.0\"\n"
      ],
      "metadata": {
        "colab": {
          "base_uri": "https://localhost:8080/"
        },
        "id": "_IwiLC1sMCGd",
        "outputId": "c7ff9746-40d0-4776-e07f-e5d12b1db59b"
      },
      "execution_count": 11,
      "outputs": [
        {
          "output_type": "stream",
          "name": "stdout",
          "text": [
            "Requirement already satisfied: transformers>=4.5.0 in /usr/local/lib/python3.11/dist-packages (from transformers[torch]>=4.5.0) (4.52.4)\n",
            "Requirement already satisfied: filelock in /usr/local/lib/python3.11/dist-packages (from transformers>=4.5.0->transformers[torch]>=4.5.0) (3.18.0)\n",
            "Requirement already satisfied: huggingface-hub<1.0,>=0.30.0 in /usr/local/lib/python3.11/dist-packages (from transformers>=4.5.0->transformers[torch]>=4.5.0) (0.32.4)\n",
            "Requirement already satisfied: numpy>=1.17 in /usr/local/lib/python3.11/dist-packages (from transformers>=4.5.0->transformers[torch]>=4.5.0) (2.0.2)\n",
            "Requirement already satisfied: packaging>=20.0 in /usr/local/lib/python3.11/dist-packages (from transformers>=4.5.0->transformers[torch]>=4.5.0) (24.2)\n",
            "Requirement already satisfied: pyyaml>=5.1 in /usr/local/lib/python3.11/dist-packages (from transformers>=4.5.0->transformers[torch]>=4.5.0) (6.0.2)\n",
            "Requirement already satisfied: regex!=2019.12.17 in /usr/local/lib/python3.11/dist-packages (from transformers>=4.5.0->transformers[torch]>=4.5.0) (2024.11.6)\n",
            "Requirement already satisfied: requests in /usr/local/lib/python3.11/dist-packages (from transformers>=4.5.0->transformers[torch]>=4.5.0) (2.32.3)\n",
            "Requirement already satisfied: tokenizers<0.22,>=0.21 in /usr/local/lib/python3.11/dist-packages (from transformers>=4.5.0->transformers[torch]>=4.5.0) (0.21.1)\n",
            "Requirement already satisfied: safetensors>=0.4.3 in /usr/local/lib/python3.11/dist-packages (from transformers>=4.5.0->transformers[torch]>=4.5.0) (0.5.3)\n",
            "Requirement already satisfied: tqdm>=4.27 in /usr/local/lib/python3.11/dist-packages (from transformers>=4.5.0->transformers[torch]>=4.5.0) (4.67.1)\n",
            "Requirement already satisfied: torch<2.7,>=2.1 in /usr/local/lib/python3.11/dist-packages (from transformers[torch]>=4.5.0) (2.6.0+cu124)\n",
            "Requirement already satisfied: accelerate>=0.26.0 in /usr/local/lib/python3.11/dist-packages (from transformers[torch]>=4.5.0) (1.7.0)\n",
            "Requirement already satisfied: psutil in /usr/local/lib/python3.11/dist-packages (from accelerate>=0.26.0->transformers[torch]>=4.5.0) (5.9.5)\n",
            "Requirement already satisfied: fsspec>=2023.5.0 in /usr/local/lib/python3.11/dist-packages (from huggingface-hub<1.0,>=0.30.0->transformers>=4.5.0->transformers[torch]>=4.5.0) (2025.3.2)\n",
            "Requirement already satisfied: typing-extensions>=3.7.4.3 in /usr/local/lib/python3.11/dist-packages (from huggingface-hub<1.0,>=0.30.0->transformers>=4.5.0->transformers[torch]>=4.5.0) (4.14.0)\n",
            "Requirement already satisfied: hf-xet<2.0.0,>=1.1.2 in /usr/local/lib/python3.11/dist-packages (from huggingface-hub<1.0,>=0.30.0->transformers>=4.5.0->transformers[torch]>=4.5.0) (1.1.2)\n",
            "Requirement already satisfied: networkx in /usr/local/lib/python3.11/dist-packages (from torch<2.7,>=2.1->transformers[torch]>=4.5.0) (3.5)\n",
            "Requirement already satisfied: jinja2 in /usr/local/lib/python3.11/dist-packages (from torch<2.7,>=2.1->transformers[torch]>=4.5.0) (3.1.6)\n",
            "Requirement already satisfied: nvidia-cuda-nvrtc-cu12==12.4.127 in /usr/local/lib/python3.11/dist-packages (from torch<2.7,>=2.1->transformers[torch]>=4.5.0) (12.4.127)\n",
            "Requirement already satisfied: nvidia-cuda-runtime-cu12==12.4.127 in /usr/local/lib/python3.11/dist-packages (from torch<2.7,>=2.1->transformers[torch]>=4.5.0) (12.4.127)\n",
            "Requirement already satisfied: nvidia-cuda-cupti-cu12==12.4.127 in /usr/local/lib/python3.11/dist-packages (from torch<2.7,>=2.1->transformers[torch]>=4.5.0) (12.4.127)\n",
            "Requirement already satisfied: nvidia-cudnn-cu12==9.1.0.70 in /usr/local/lib/python3.11/dist-packages (from torch<2.7,>=2.1->transformers[torch]>=4.5.0) (9.1.0.70)\n",
            "Requirement already satisfied: nvidia-cublas-cu12==12.4.5.8 in /usr/local/lib/python3.11/dist-packages (from torch<2.7,>=2.1->transformers[torch]>=4.5.0) (12.4.5.8)\n",
            "Requirement already satisfied: nvidia-cufft-cu12==11.2.1.3 in /usr/local/lib/python3.11/dist-packages (from torch<2.7,>=2.1->transformers[torch]>=4.5.0) (11.2.1.3)\n",
            "Requirement already satisfied: nvidia-curand-cu12==10.3.5.147 in /usr/local/lib/python3.11/dist-packages (from torch<2.7,>=2.1->transformers[torch]>=4.5.0) (10.3.5.147)\n",
            "Requirement already satisfied: nvidia-cusolver-cu12==11.6.1.9 in /usr/local/lib/python3.11/dist-packages (from torch<2.7,>=2.1->transformers[torch]>=4.5.0) (11.6.1.9)\n",
            "Requirement already satisfied: nvidia-cusparse-cu12==12.3.1.170 in /usr/local/lib/python3.11/dist-packages (from torch<2.7,>=2.1->transformers[torch]>=4.5.0) (12.3.1.170)\n",
            "Requirement already satisfied: nvidia-cusparselt-cu12==0.6.2 in /usr/local/lib/python3.11/dist-packages (from torch<2.7,>=2.1->transformers[torch]>=4.5.0) (0.6.2)\n",
            "Requirement already satisfied: nvidia-nccl-cu12==2.21.5 in /usr/local/lib/python3.11/dist-packages (from torch<2.7,>=2.1->transformers[torch]>=4.5.0) (2.21.5)\n",
            "Requirement already satisfied: nvidia-nvtx-cu12==12.4.127 in /usr/local/lib/python3.11/dist-packages (from torch<2.7,>=2.1->transformers[torch]>=4.5.0) (12.4.127)\n",
            "Requirement already satisfied: nvidia-nvjitlink-cu12==12.4.127 in /usr/local/lib/python3.11/dist-packages (from torch<2.7,>=2.1->transformers[torch]>=4.5.0) (12.4.127)\n",
            "Requirement already satisfied: triton==3.2.0 in /usr/local/lib/python3.11/dist-packages (from torch<2.7,>=2.1->transformers[torch]>=4.5.0) (3.2.0)\n",
            "Requirement already satisfied: sympy==1.13.1 in /usr/local/lib/python3.11/dist-packages (from torch<2.7,>=2.1->transformers[torch]>=4.5.0) (1.13.1)\n",
            "Requirement already satisfied: mpmath<1.4,>=1.1.0 in /usr/local/lib/python3.11/dist-packages (from sympy==1.13.1->torch<2.7,>=2.1->transformers[torch]>=4.5.0) (1.3.0)\n",
            "Requirement already satisfied: charset-normalizer<4,>=2 in /usr/local/lib/python3.11/dist-packages (from requests->transformers>=4.5.0->transformers[torch]>=4.5.0) (3.4.2)\n",
            "Requirement already satisfied: idna<4,>=2.5 in /usr/local/lib/python3.11/dist-packages (from requests->transformers>=4.5.0->transformers[torch]>=4.5.0) (3.10)\n",
            "Requirement already satisfied: urllib3<3,>=1.21.1 in /usr/local/lib/python3.11/dist-packages (from requests->transformers>=4.5.0->transformers[torch]>=4.5.0) (2.4.0)\n",
            "Requirement already satisfied: certifi>=2017.4.17 in /usr/local/lib/python3.11/dist-packages (from requests->transformers>=4.5.0->transformers[torch]>=4.5.0) (2025.4.26)\n",
            "Requirement already satisfied: MarkupSafe>=2.0 in /usr/local/lib/python3.11/dist-packages (from jinja2->torch<2.7,>=2.1->transformers[torch]>=4.5.0) (3.0.2)\n"
          ]
        }
      ]
    },
    {
      "cell_type": "code",
      "source": [
        "import transformers\n",
        "print(transformers.__version__)  # should be >= 4.5.0\n",
        "\n",
        "from transformers import pipeline\n",
        "sent = pipeline(\"sentiment-analysis\", model=\"yiyanghkust/finbert-tone\")\n",
        "print(sent(\"The Federal Reserve announced a rate cut today.\"))\n"
      ],
      "metadata": {
        "colab": {
          "base_uri": "https://localhost:8080/",
          "height": 417
        },
        "id": "_K0DLJhiLZQ2",
        "outputId": "b20f3b96-1a0d-4247-d580-aab108438c99"
      },
      "execution_count": 13,
      "outputs": [
        {
          "output_type": "stream",
          "name": "stdout",
          "text": [
            "4.52.4\n"
          ]
        },
        {
          "output_type": "error",
          "ename": "ImportError",
          "evalue": "cannot import name 'pipeline' from 'transformers' (/usr/local/lib/python3.11/dist-packages/transformers/__init__.py)",
          "traceback": [
            "\u001b[0;31m---------------------------------------------------------------------------\u001b[0m",
            "\u001b[0;31mImportError\u001b[0m                               Traceback (most recent call last)",
            "\u001b[0;32m<ipython-input-13-2793725441>\u001b[0m in \u001b[0;36m<cell line: 0>\u001b[0;34m()\u001b[0m\n\u001b[1;32m      2\u001b[0m \u001b[0mprint\u001b[0m\u001b[0;34m(\u001b[0m\u001b[0mtransformers\u001b[0m\u001b[0;34m.\u001b[0m\u001b[0m__version__\u001b[0m\u001b[0;34m)\u001b[0m  \u001b[0;31m# should be >= 4.5.0\u001b[0m\u001b[0;34m\u001b[0m\u001b[0;34m\u001b[0m\u001b[0m\n\u001b[1;32m      3\u001b[0m \u001b[0;34m\u001b[0m\u001b[0m\n\u001b[0;32m----> 4\u001b[0;31m \u001b[0;32mfrom\u001b[0m \u001b[0mtransformers\u001b[0m \u001b[0;32mimport\u001b[0m \u001b[0mpipeline\u001b[0m\u001b[0;34m\u001b[0m\u001b[0;34m\u001b[0m\u001b[0m\n\u001b[0m\u001b[1;32m      5\u001b[0m \u001b[0msent\u001b[0m \u001b[0;34m=\u001b[0m \u001b[0mpipeline\u001b[0m\u001b[0;34m(\u001b[0m\u001b[0;34m\"sentiment-analysis\"\u001b[0m\u001b[0;34m,\u001b[0m \u001b[0mmodel\u001b[0m\u001b[0;34m=\u001b[0m\u001b[0;34m\"yiyanghkust/finbert-tone\"\u001b[0m\u001b[0;34m)\u001b[0m\u001b[0;34m\u001b[0m\u001b[0;34m\u001b[0m\u001b[0m\n\u001b[1;32m      6\u001b[0m \u001b[0mprint\u001b[0m\u001b[0;34m(\u001b[0m\u001b[0msent\u001b[0m\u001b[0;34m(\u001b[0m\u001b[0;34m\"The Federal Reserve announced a rate cut today.\"\u001b[0m\u001b[0;34m)\u001b[0m\u001b[0;34m)\u001b[0m\u001b[0;34m\u001b[0m\u001b[0;34m\u001b[0m\u001b[0m\n",
            "\u001b[0;31mImportError\u001b[0m: cannot import name 'pipeline' from 'transformers' (/usr/local/lib/python3.11/dist-packages/transformers/__init__.py)",
            "",
            "\u001b[0;31m---------------------------------------------------------------------------\u001b[0;32m\nNOTE: If your import is failing due to a missing package, you can\nmanually install dependencies using either !pip or !apt.\n\nTo view examples of installing some common dependencies, click the\n\"Open Examples\" button below.\n\u001b[0;31m---------------------------------------------------------------------------\u001b[0m\n"
          ],
          "errorDetails": {
            "actions": [
              {
                "action": "open_url",
                "actionText": "Open Examples",
                "url": "/notebooks/snippets/importing_libraries.ipynb"
              }
            ]
          }
        }
      ]
    },
    {
      "cell_type": "code",
      "source": [
        "def get_sentiment(text):\n",
        "    try:\n",
        "        result = pipe(text[:512])[0]\n",
        "        return result[\"label\"], round(result[\"score\"], 4)\n",
        "    except Exception as e:\n",
        "        print(f\"Error: {e}\")\n",
        "        return \"NEUTRAL\", 0.0\n"
      ],
      "metadata": {
        "id": "RQy219NREs8k"
      },
      "execution_count": null,
      "outputs": []
    },
    {
      "cell_type": "code",
      "source": [
        "sample_text = df[\"full_text\"].iloc[0]\n",
        "print(pipe(sample_text[:512]))\n"
      ],
      "metadata": {
        "id": "sSDnn0WcEu25"
      },
      "execution_count": null,
      "outputs": []
    },
    {
      "cell_type": "code",
      "source": [
        "from transformers import AutoTokenizer, AutoModelForSequenceClassification, TextClassificationPipeline\n",
        "import torch\n",
        "import pandas as pd\n",
        "from tqdm import tqdm\n",
        "\n",
        "model_name = \"yiyanghkust/finbert-tone\"\n",
        "tokenizer = AutoTokenizer.from_pretrained(model_name)\n",
        "model = AutoModelForSequenceClassification.from_pretrained(model_name)\n",
        "\n",
        "\n",
        "device = 0 if torch.cuda.is_available() else -1\n",
        "\n",
        "\n",
        "pipe = TextClassificationPipeline(\n",
        "    model=model,\n",
        "    tokenizer=tokenizer,\n",
        "    return_all_scores=False,\n",
        "    function_to_apply=\"softmax\",\n",
        "    device=device,\n",
        "    truncation=True,\n",
        "    max_length=512,\n",
        "    batch_size=16,\n",
        "    top_k=None\n",
        ")\n"
      ],
      "metadata": {
        "colab": {
          "base_uri": "https://localhost:8080/"
        },
        "id": "tajsfg8PPEcI",
        "outputId": "01ddbd9e-f9f7-473d-9840-f15a14621c70"
      },
      "execution_count": 51,
      "outputs": [
        {
          "output_type": "stream",
          "name": "stderr",
          "text": [
            "Device set to use cpu\n"
          ]
        }
      ]
    },
    {
      "cell_type": "code",
      "source": [
        "def preprocess_text(row):\n",
        "    text = \"\"\n",
        "    if pd.notnull(row.get(\"title\")):\n",
        "        text += row[\"title\"].strip()\n",
        "    if pd.notnull(row.get(\"content\")):\n",
        "        text += \" \" + row[\"content\"].strip()\n",
        "    return text.replace(\"\\n\", \" \").replace(\"  \", \" \")\n",
        "\n",
        "df[\"full_text\"] = df.apply(preprocess_text, axis=1)\n",
        "df.drop_duplicates(subset=\"full_text\", inplace=True)\n",
        "df = df[df[\"full_text\"].str.len() > 30]  # Filter too-short entries\n"
      ],
      "metadata": {
        "id": "6PPzJD7gPEZ4"
      },
      "execution_count": 52,
      "outputs": []
    },
    {
      "cell_type": "code",
      "source": [
        "tqdm.pandas(desc=\"Analyzing Sentiment\")\n",
        "\n",
        "def get_sentiment(text):\n",
        "    try:\n",
        "        result = pipe(text[:512])[0]\n",
        "        return result[\"label\"], round(result[\"score\"], 4)\n",
        "    except Exception:\n",
        "        return \"NEUTRAL\", 0.0\n",
        "\n",
        "# Apply in batches\n",
        "df[[\"sentiment\", \"confidence\"]] = df[\"full_text\"].progress_apply(\n",
        "    lambda x: pd.Series(get_sentiment(x))\n",
        ")\n"
      ],
      "metadata": {
        "id": "1mmIe4EgVYVO",
        "colab": {
          "base_uri": "https://localhost:8080/"
        },
        "outputId": "64705f30-a2e8-47a5-bd69-8b3f829a20d9"
      },
      "execution_count": 53,
      "outputs": [
        {
          "output_type": "stream",
          "name": "stderr",
          "text": [
            "Analyzing Sentiment: 100%|██████████| 94/94 [00:47<00:00,  1.98it/s]\n",
            "<ipython-input-53-4025788473>:11: SettingWithCopyWarning: \n",
            "A value is trying to be set on a copy of a slice from a DataFrame.\n",
            "Try using .loc[row_indexer,col_indexer] = value instead\n",
            "\n",
            "See the caveats in the documentation: https://pandas.pydata.org/pandas-docs/stable/user_guide/indexing.html#returning-a-view-versus-a-copy\n",
            "  df[[\"sentiment\", \"confidence\"]] = df[\"full_text\"].progress_apply(\n",
            "<ipython-input-53-4025788473>:11: SettingWithCopyWarning: \n",
            "A value is trying to be set on a copy of a slice from a DataFrame.\n",
            "Try using .loc[row_indexer,col_indexer] = value instead\n",
            "\n",
            "See the caveats in the documentation: https://pandas.pydata.org/pandas-docs/stable/user_guide/indexing.html#returning-a-view-versus-a-copy\n",
            "  df[[\"sentiment\", \"confidence\"]] = df[\"full_text\"].progress_apply(\n"
          ]
        }
      ]
    },
    {
      "cell_type": "code",
      "source": [
        "print(df[[\"source\", \"title\", \"sentiment\", \"confidence\"]].head())\n"
      ],
      "metadata": {
        "id": "Hp4hN5I0VYTH",
        "colab": {
          "base_uri": "https://localhost:8080/"
        },
        "outputId": "9767fffb-e0fb-432a-8e45-1394329629f4"
      },
      "execution_count": 54,
      "outputs": [
        {
          "output_type": "stream",
          "name": "stdout",
          "text": [
            "  source                                              title sentiment  \\\n",
            "0   CNBC  Apple's WWDC underwhelms on AI, but software g...   NEUTRAL   \n",
            "1   CNBC  Trump authorizes deploying 2,000 more National...   NEUTRAL   \n",
            "2   CNBC  China’s rare-earth mineral squeeze puts defens...   NEUTRAL   \n",
            "3   CNBC  Temu and Shein are pivoting to Europe in face ...   NEUTRAL   \n",
            "4   CNBC  RFK Jr. removes all members of CDC panel advis...   NEUTRAL   \n",
            "\n",
            "   confidence  \n",
            "0         0.0  \n",
            "1         0.0  \n",
            "2         0.0  \n",
            "3         0.0  \n",
            "4         0.0  \n"
          ]
        }
      ]
    },
    {
      "cell_type": "code",
      "source": [
        "df.head(20)"
      ],
      "metadata": {
        "colab": {
          "base_uri": "https://localhost:8080/",
          "height": 1000
        },
        "id": "ArcWO-7Rc-w9",
        "outputId": "066a809e-6c1c-467c-a917-3c260977163b"
      },
      "execution_count": 41,
      "outputs": [
        {
          "output_type": "execute_result",
          "data": {
            "text/plain": [
              "   source                                              title  \\\n",
              "0    CNBC  Apple's WWDC underwhelms on AI, but software g...   \n",
              "1    CNBC  Trump authorizes deploying 2,000 more National...   \n",
              "2    CNBC  RFK Jr. removes all members of CDC panel advis...   \n",
              "3    CNBC  Crypto CEO accused of laundering $500 million ...   \n",
              "4    CNBC  Disney to pay Comcast $438.7 million to take f...   \n",
              "5    CNBC     Trump, CEOs promote savings plans for newborns   \n",
              "6    CNBC  FDA approves Merck’s RSV shot for infants, ram...   \n",
              "7    CNBC  Photos show Waymo vehicles on fire during LA p...   \n",
              "8    CNBC  China and U.S. set to continue trade talks as ...   \n",
              "9    CNBC  Jim Cramer says Circle Internet stock is 'too ...   \n",
              "10   CNBC  Supreme Court just gave DOGE access to Social ...   \n",
              "11   CNBC  Trump, Harvard battle over student visas could...   \n",
              "12   CNBC  CEO recession expectations decline from April ...   \n",
              "13   CNBC  Jim Cramer sees a 'bizarre' rotation in the ma...   \n",
              "14   CNBC  Warner Bros. Discovery split throws the future...   \n",
              "15   CNBC  Warner Bros. Discovery to split into two publi...   \n",
              "16   CNBC  Topgolf Callaway stock jumps nearly 15% after ...   \n",
              "17   CNBC  Inflation fears receded in May as Trump eased ...   \n",
              "18   CNBC  Walmart is using its own fintech firm to provi...   \n",
              "19   CNBC  'He’s like Iron Man': Jensen Huang lit up Lond...   \n",
              "\n",
              "                                                  url           published  \\\n",
              "0   https://www.cnbc.com/2025/06/09/apple-wwdc-und... 2025-06-09 23:42:58   \n",
              "1   https://www.cnbc.com/2025/06/09/trump-sued-nat... 2025-06-10 01:06:55   \n",
              "2   https://www.cnbc.com/2025/06/09/rfk-jr-cdc-pan... 2025-06-09 21:31:52   \n",
              "3   https://www.cnbc.com/2025/06/09/crypto-russia-... 2025-06-09 20:51:15   \n",
              "4   https://www.cnbc.com/2025/06/09/disney-comcast... 2025-06-09 21:29:43   \n",
              "5   https://www.cnbc.com/2025/06/09/trump-accounts... 2025-06-09 21:59:12   \n",
              "6   https://www.cnbc.com/2025/06/09/fda-approves-m... 2025-06-09 20:13:02   \n",
              "7   https://www.cnbc.com/2025/06/09/photos-waymo-f... 2025-06-09 21:51:45   \n",
              "8   https://www.cnbc.com/2025/06/09/china-and-us-t... 2025-06-10 02:15:46   \n",
              "9   https://www.cnbc.com/2025/06/09/jim-cramer-say... 2025-06-09 23:00:17   \n",
              "10  https://www.cnbc.com/2025/06/09/supreme-court-... 2025-06-09 18:18:38   \n",
              "11  https://www.cnbc.com/2025/06/09/what-trump-har... 2025-06-09 19:06:48   \n",
              "12  https://www.cnbc.com/2025/06/09/ceo-recession-... 2025-06-09 16:33:37   \n",
              "13  https://www.cnbc.com/2025/06/09/jim-cramer-see... 2025-06-09 16:14:29   \n",
              "14  https://www.cnbc.com/2025/06/09/wbd-split-tnt-... 2025-06-09 19:51:46   \n",
              "15  https://www.cnbc.com/2025/06/09/warner-bros-di... 2025-06-09 16:48:37   \n",
              "16  https://www.cnbc.com/2025/06/09/topgolf-callaw... 2025-06-09 20:09:01   \n",
              "17  https://www.cnbc.com/2025/06/09/inflation-fear... 2025-06-09 16:25:38   \n",
              "18  https://www.cnbc.com/2025/06/09/walmart-onepay... 2025-06-09 18:10:43   \n",
              "19  https://www.cnbc.com/2025/06/09/nvidias-jensen... 2025-06-09 15:38:34   \n",
              "\n",
              "                                              content  \\\n",
              "0   Apple's annual developer conference on Monday ...   \n",
              "1   President Donald Trump has authorized deployin...   \n",
              "2   Health and Human Services Secretary Robert F. ...   \n",
              "3   Federal prosecutors in Brooklyn have charged t...   \n",
              "4   Disney has agreed to pay Comcast $438.7 millio...   \n",
              "5   Dell Technologies pledged Monday to provide $1...   \n",
              "6   The Food and Drug Administration on Monday app...   \n",
              "7   Several Waymo autonomous vehicles were set abl...   \n",
              "8   U.S.-China trade talks were set to continue in...   \n",
              "9   CNBC's Jim Cramer on Monday examined Circle In...   \n",
              "10  The Supreme Court on Friday granted the Depart...   \n",
              "11  The escalating battle between the Trump admini...   \n",
              "12  Business leaders are walking back recessionary...   \n",
              "13  Every weekday the CNBC Investing Club with Jim...   \n",
              "14  Earlier this year, Warner Bros. Discovery Chie...   \n",
              "15  Warner Bros. Discovery plans to split into two...   \n",
              "16  Sports entertainment, equipment and apparel st...   \n",
              "17  Americans grew less fearful about inflation in...   \n",
              "18  Walmart's majority-owned fintech startup OnePa...   \n",
              "19  LONDON — Wherever Nvidia CEO Jensen Huang goes...   \n",
              "\n",
              "                                            full_text sentiment  confidence  \\\n",
              "0   Apple's WWDC underwhelms on AI, but software g...   NEUTRAL         0.0   \n",
              "1   Trump authorizes deploying 2,000 more National...   NEUTRAL         0.0   \n",
              "2   RFK Jr. removes all members of CDC panel advis...   NEUTRAL         0.0   \n",
              "3   Crypto CEO accused of laundering $500 million ...   NEUTRAL         0.0   \n",
              "4   Disney to pay Comcast $438.7 million to take f...   NEUTRAL         0.0   \n",
              "5   Trump, CEOs promote savings plans for newborns...   NEUTRAL         0.0   \n",
              "6   FDA approves Merck’s RSV shot for infants, ram...   NEUTRAL         0.0   \n",
              "7   Photos show Waymo vehicles on fire during LA p...   NEUTRAL         0.0   \n",
              "8   China and U.S. set to continue trade talks as ...   NEUTRAL         0.0   \n",
              "9   Jim Cramer says Circle Internet stock is 'too ...   NEUTRAL         0.0   \n",
              "10  Supreme Court just gave DOGE access to Social ...   NEUTRAL         0.0   \n",
              "11  Trump, Harvard battle over student visas could...   NEUTRAL         0.0   \n",
              "12  CEO recession expectations decline from April ...   NEUTRAL         0.0   \n",
              "13  Jim Cramer sees a 'bizarre' rotation in the ma...   NEUTRAL         0.0   \n",
              "14  Warner Bros. Discovery split throws the future...   NEUTRAL         0.0   \n",
              "15  Warner Bros. Discovery to split into two publi...   NEUTRAL         0.0   \n",
              "16  Topgolf Callaway stock jumps nearly 15% after ...   NEUTRAL         0.0   \n",
              "17  Inflation fears receded in May as Trump eased ...   NEUTRAL         0.0   \n",
              "18  Walmart is using its own fintech firm to provi...   NEUTRAL         0.0   \n",
              "19  'He’s like Iron Man': Jensen Huang lit up Lond...   NEUTRAL         0.0   \n",
              "\n",
              "   market_label  \n",
              "0       UNKNOWN  \n",
              "1       UNKNOWN  \n",
              "2       UNKNOWN  \n",
              "3       UNKNOWN  \n",
              "4       UNKNOWN  \n",
              "5       UNKNOWN  \n",
              "6       UNKNOWN  \n",
              "7       UNKNOWN  \n",
              "8       UNKNOWN  \n",
              "9       UNKNOWN  \n",
              "10      UNKNOWN  \n",
              "11      UNKNOWN  \n",
              "12      UNKNOWN  \n",
              "13      UNKNOWN  \n",
              "14      UNKNOWN  \n",
              "15      UNKNOWN  \n",
              "16      UNKNOWN  \n",
              "17      UNKNOWN  \n",
              "18      UNKNOWN  \n",
              "19      UNKNOWN  "
            ],
            "text/html": [
              "\n",
              "  <div id=\"df-76ea96da-9613-4b46-9eb6-87141f7818cb\" class=\"colab-df-container\">\n",
              "    <div>\n",
              "<style scoped>\n",
              "    .dataframe tbody tr th:only-of-type {\n",
              "        vertical-align: middle;\n",
              "    }\n",
              "\n",
              "    .dataframe tbody tr th {\n",
              "        vertical-align: top;\n",
              "    }\n",
              "\n",
              "    .dataframe thead th {\n",
              "        text-align: right;\n",
              "    }\n",
              "</style>\n",
              "<table border=\"1\" class=\"dataframe\">\n",
              "  <thead>\n",
              "    <tr style=\"text-align: right;\">\n",
              "      <th></th>\n",
              "      <th>source</th>\n",
              "      <th>title</th>\n",
              "      <th>url</th>\n",
              "      <th>published</th>\n",
              "      <th>content</th>\n",
              "      <th>full_text</th>\n",
              "      <th>sentiment</th>\n",
              "      <th>confidence</th>\n",
              "      <th>market_label</th>\n",
              "    </tr>\n",
              "  </thead>\n",
              "  <tbody>\n",
              "    <tr>\n",
              "      <th>0</th>\n",
              "      <td>CNBC</td>\n",
              "      <td>Apple's WWDC underwhelms on AI, but software g...</td>\n",
              "      <td>https://www.cnbc.com/2025/06/09/apple-wwdc-und...</td>\n",
              "      <td>2025-06-09 23:42:58</td>\n",
              "      <td>Apple's annual developer conference on Monday ...</td>\n",
              "      <td>Apple's WWDC underwhelms on AI, but software g...</td>\n",
              "      <td>NEUTRAL</td>\n",
              "      <td>0.0</td>\n",
              "      <td>UNKNOWN</td>\n",
              "    </tr>\n",
              "    <tr>\n",
              "      <th>1</th>\n",
              "      <td>CNBC</td>\n",
              "      <td>Trump authorizes deploying 2,000 more National...</td>\n",
              "      <td>https://www.cnbc.com/2025/06/09/trump-sued-nat...</td>\n",
              "      <td>2025-06-10 01:06:55</td>\n",
              "      <td>President Donald Trump has authorized deployin...</td>\n",
              "      <td>Trump authorizes deploying 2,000 more National...</td>\n",
              "      <td>NEUTRAL</td>\n",
              "      <td>0.0</td>\n",
              "      <td>UNKNOWN</td>\n",
              "    </tr>\n",
              "    <tr>\n",
              "      <th>2</th>\n",
              "      <td>CNBC</td>\n",
              "      <td>RFK Jr. removes all members of CDC panel advis...</td>\n",
              "      <td>https://www.cnbc.com/2025/06/09/rfk-jr-cdc-pan...</td>\n",
              "      <td>2025-06-09 21:31:52</td>\n",
              "      <td>Health and Human Services Secretary Robert F. ...</td>\n",
              "      <td>RFK Jr. removes all members of CDC panel advis...</td>\n",
              "      <td>NEUTRAL</td>\n",
              "      <td>0.0</td>\n",
              "      <td>UNKNOWN</td>\n",
              "    </tr>\n",
              "    <tr>\n",
              "      <th>3</th>\n",
              "      <td>CNBC</td>\n",
              "      <td>Crypto CEO accused of laundering $500 million ...</td>\n",
              "      <td>https://www.cnbc.com/2025/06/09/crypto-russia-...</td>\n",
              "      <td>2025-06-09 20:51:15</td>\n",
              "      <td>Federal prosecutors in Brooklyn have charged t...</td>\n",
              "      <td>Crypto CEO accused of laundering $500 million ...</td>\n",
              "      <td>NEUTRAL</td>\n",
              "      <td>0.0</td>\n",
              "      <td>UNKNOWN</td>\n",
              "    </tr>\n",
              "    <tr>\n",
              "      <th>4</th>\n",
              "      <td>CNBC</td>\n",
              "      <td>Disney to pay Comcast $438.7 million to take f...</td>\n",
              "      <td>https://www.cnbc.com/2025/06/09/disney-comcast...</td>\n",
              "      <td>2025-06-09 21:29:43</td>\n",
              "      <td>Disney has agreed to pay Comcast $438.7 millio...</td>\n",
              "      <td>Disney to pay Comcast $438.7 million to take f...</td>\n",
              "      <td>NEUTRAL</td>\n",
              "      <td>0.0</td>\n",
              "      <td>UNKNOWN</td>\n",
              "    </tr>\n",
              "    <tr>\n",
              "      <th>5</th>\n",
              "      <td>CNBC</td>\n",
              "      <td>Trump, CEOs promote savings plans for newborns</td>\n",
              "      <td>https://www.cnbc.com/2025/06/09/trump-accounts...</td>\n",
              "      <td>2025-06-09 21:59:12</td>\n",
              "      <td>Dell Technologies pledged Monday to provide $1...</td>\n",
              "      <td>Trump, CEOs promote savings plans for newborns...</td>\n",
              "      <td>NEUTRAL</td>\n",
              "      <td>0.0</td>\n",
              "      <td>UNKNOWN</td>\n",
              "    </tr>\n",
              "    <tr>\n",
              "      <th>6</th>\n",
              "      <td>CNBC</td>\n",
              "      <td>FDA approves Merck’s RSV shot for infants, ram...</td>\n",
              "      <td>https://www.cnbc.com/2025/06/09/fda-approves-m...</td>\n",
              "      <td>2025-06-09 20:13:02</td>\n",
              "      <td>The Food and Drug Administration on Monday app...</td>\n",
              "      <td>FDA approves Merck’s RSV shot for infants, ram...</td>\n",
              "      <td>NEUTRAL</td>\n",
              "      <td>0.0</td>\n",
              "      <td>UNKNOWN</td>\n",
              "    </tr>\n",
              "    <tr>\n",
              "      <th>7</th>\n",
              "      <td>CNBC</td>\n",
              "      <td>Photos show Waymo vehicles on fire during LA p...</td>\n",
              "      <td>https://www.cnbc.com/2025/06/09/photos-waymo-f...</td>\n",
              "      <td>2025-06-09 21:51:45</td>\n",
              "      <td>Several Waymo autonomous vehicles were set abl...</td>\n",
              "      <td>Photos show Waymo vehicles on fire during LA p...</td>\n",
              "      <td>NEUTRAL</td>\n",
              "      <td>0.0</td>\n",
              "      <td>UNKNOWN</td>\n",
              "    </tr>\n",
              "    <tr>\n",
              "      <th>8</th>\n",
              "      <td>CNBC</td>\n",
              "      <td>China and U.S. set to continue trade talks as ...</td>\n",
              "      <td>https://www.cnbc.com/2025/06/09/china-and-us-t...</td>\n",
              "      <td>2025-06-10 02:15:46</td>\n",
              "      <td>U.S.-China trade talks were set to continue in...</td>\n",
              "      <td>China and U.S. set to continue trade talks as ...</td>\n",
              "      <td>NEUTRAL</td>\n",
              "      <td>0.0</td>\n",
              "      <td>UNKNOWN</td>\n",
              "    </tr>\n",
              "    <tr>\n",
              "      <th>9</th>\n",
              "      <td>CNBC</td>\n",
              "      <td>Jim Cramer says Circle Internet stock is 'too ...</td>\n",
              "      <td>https://www.cnbc.com/2025/06/09/jim-cramer-say...</td>\n",
              "      <td>2025-06-09 23:00:17</td>\n",
              "      <td>CNBC's Jim Cramer on Monday examined Circle In...</td>\n",
              "      <td>Jim Cramer says Circle Internet stock is 'too ...</td>\n",
              "      <td>NEUTRAL</td>\n",
              "      <td>0.0</td>\n",
              "      <td>UNKNOWN</td>\n",
              "    </tr>\n",
              "    <tr>\n",
              "      <th>10</th>\n",
              "      <td>CNBC</td>\n",
              "      <td>Supreme Court just gave DOGE access to Social ...</td>\n",
              "      <td>https://www.cnbc.com/2025/06/09/supreme-court-...</td>\n",
              "      <td>2025-06-09 18:18:38</td>\n",
              "      <td>The Supreme Court on Friday granted the Depart...</td>\n",
              "      <td>Supreme Court just gave DOGE access to Social ...</td>\n",
              "      <td>NEUTRAL</td>\n",
              "      <td>0.0</td>\n",
              "      <td>UNKNOWN</td>\n",
              "    </tr>\n",
              "    <tr>\n",
              "      <th>11</th>\n",
              "      <td>CNBC</td>\n",
              "      <td>Trump, Harvard battle over student visas could...</td>\n",
              "      <td>https://www.cnbc.com/2025/06/09/what-trump-har...</td>\n",
              "      <td>2025-06-09 19:06:48</td>\n",
              "      <td>The escalating battle between the Trump admini...</td>\n",
              "      <td>Trump, Harvard battle over student visas could...</td>\n",
              "      <td>NEUTRAL</td>\n",
              "      <td>0.0</td>\n",
              "      <td>UNKNOWN</td>\n",
              "    </tr>\n",
              "    <tr>\n",
              "      <th>12</th>\n",
              "      <td>CNBC</td>\n",
              "      <td>CEO recession expectations decline from April ...</td>\n",
              "      <td>https://www.cnbc.com/2025/06/09/ceo-recession-...</td>\n",
              "      <td>2025-06-09 16:33:37</td>\n",
              "      <td>Business leaders are walking back recessionary...</td>\n",
              "      <td>CEO recession expectations decline from April ...</td>\n",
              "      <td>NEUTRAL</td>\n",
              "      <td>0.0</td>\n",
              "      <td>UNKNOWN</td>\n",
              "    </tr>\n",
              "    <tr>\n",
              "      <th>13</th>\n",
              "      <td>CNBC</td>\n",
              "      <td>Jim Cramer sees a 'bizarre' rotation in the ma...</td>\n",
              "      <td>https://www.cnbc.com/2025/06/09/jim-cramer-see...</td>\n",
              "      <td>2025-06-09 16:14:29</td>\n",
              "      <td>Every weekday the CNBC Investing Club with Jim...</td>\n",
              "      <td>Jim Cramer sees a 'bizarre' rotation in the ma...</td>\n",
              "      <td>NEUTRAL</td>\n",
              "      <td>0.0</td>\n",
              "      <td>UNKNOWN</td>\n",
              "    </tr>\n",
              "    <tr>\n",
              "      <th>14</th>\n",
              "      <td>CNBC</td>\n",
              "      <td>Warner Bros. Discovery split throws the future...</td>\n",
              "      <td>https://www.cnbc.com/2025/06/09/wbd-split-tnt-...</td>\n",
              "      <td>2025-06-09 19:51:46</td>\n",
              "      <td>Earlier this year, Warner Bros. Discovery Chie...</td>\n",
              "      <td>Warner Bros. Discovery split throws the future...</td>\n",
              "      <td>NEUTRAL</td>\n",
              "      <td>0.0</td>\n",
              "      <td>UNKNOWN</td>\n",
              "    </tr>\n",
              "    <tr>\n",
              "      <th>15</th>\n",
              "      <td>CNBC</td>\n",
              "      <td>Warner Bros. Discovery to split into two publi...</td>\n",
              "      <td>https://www.cnbc.com/2025/06/09/warner-bros-di...</td>\n",
              "      <td>2025-06-09 16:48:37</td>\n",
              "      <td>Warner Bros. Discovery plans to split into two...</td>\n",
              "      <td>Warner Bros. Discovery to split into two publi...</td>\n",
              "      <td>NEUTRAL</td>\n",
              "      <td>0.0</td>\n",
              "      <td>UNKNOWN</td>\n",
              "    </tr>\n",
              "    <tr>\n",
              "      <th>16</th>\n",
              "      <td>CNBC</td>\n",
              "      <td>Topgolf Callaway stock jumps nearly 15% after ...</td>\n",
              "      <td>https://www.cnbc.com/2025/06/09/topgolf-callaw...</td>\n",
              "      <td>2025-06-09 20:09:01</td>\n",
              "      <td>Sports entertainment, equipment and apparel st...</td>\n",
              "      <td>Topgolf Callaway stock jumps nearly 15% after ...</td>\n",
              "      <td>NEUTRAL</td>\n",
              "      <td>0.0</td>\n",
              "      <td>UNKNOWN</td>\n",
              "    </tr>\n",
              "    <tr>\n",
              "      <th>17</th>\n",
              "      <td>CNBC</td>\n",
              "      <td>Inflation fears receded in May as Trump eased ...</td>\n",
              "      <td>https://www.cnbc.com/2025/06/09/inflation-fear...</td>\n",
              "      <td>2025-06-09 16:25:38</td>\n",
              "      <td>Americans grew less fearful about inflation in...</td>\n",
              "      <td>Inflation fears receded in May as Trump eased ...</td>\n",
              "      <td>NEUTRAL</td>\n",
              "      <td>0.0</td>\n",
              "      <td>UNKNOWN</td>\n",
              "    </tr>\n",
              "    <tr>\n",
              "      <th>18</th>\n",
              "      <td>CNBC</td>\n",
              "      <td>Walmart is using its own fintech firm to provi...</td>\n",
              "      <td>https://www.cnbc.com/2025/06/09/walmart-onepay...</td>\n",
              "      <td>2025-06-09 18:10:43</td>\n",
              "      <td>Walmart's majority-owned fintech startup OnePa...</td>\n",
              "      <td>Walmart is using its own fintech firm to provi...</td>\n",
              "      <td>NEUTRAL</td>\n",
              "      <td>0.0</td>\n",
              "      <td>UNKNOWN</td>\n",
              "    </tr>\n",
              "    <tr>\n",
              "      <th>19</th>\n",
              "      <td>CNBC</td>\n",
              "      <td>'He’s like Iron Man': Jensen Huang lit up Lond...</td>\n",
              "      <td>https://www.cnbc.com/2025/06/09/nvidias-jensen...</td>\n",
              "      <td>2025-06-09 15:38:34</td>\n",
              "      <td>LONDON — Wherever Nvidia CEO Jensen Huang goes...</td>\n",
              "      <td>'He’s like Iron Man': Jensen Huang lit up Lond...</td>\n",
              "      <td>NEUTRAL</td>\n",
              "      <td>0.0</td>\n",
              "      <td>UNKNOWN</td>\n",
              "    </tr>\n",
              "  </tbody>\n",
              "</table>\n",
              "</div>\n",
              "    <div class=\"colab-df-buttons\">\n",
              "\n",
              "  <div class=\"colab-df-container\">\n",
              "    <button class=\"colab-df-convert\" onclick=\"convertToInteractive('df-76ea96da-9613-4b46-9eb6-87141f7818cb')\"\n",
              "            title=\"Convert this dataframe to an interactive table.\"\n",
              "            style=\"display:none;\">\n",
              "\n",
              "  <svg xmlns=\"http://www.w3.org/2000/svg\" height=\"24px\" viewBox=\"0 -960 960 960\">\n",
              "    <path d=\"M120-120v-720h720v720H120Zm60-500h600v-160H180v160Zm220 220h160v-160H400v160Zm0 220h160v-160H400v160ZM180-400h160v-160H180v160Zm440 0h160v-160H620v160ZM180-180h160v-160H180v160Zm440 0h160v-160H620v160Z\"/>\n",
              "  </svg>\n",
              "    </button>\n",
              "\n",
              "  <style>\n",
              "    .colab-df-container {\n",
              "      display:flex;\n",
              "      gap: 12px;\n",
              "    }\n",
              "\n",
              "    .colab-df-convert {\n",
              "      background-color: #E8F0FE;\n",
              "      border: none;\n",
              "      border-radius: 50%;\n",
              "      cursor: pointer;\n",
              "      display: none;\n",
              "      fill: #1967D2;\n",
              "      height: 32px;\n",
              "      padding: 0 0 0 0;\n",
              "      width: 32px;\n",
              "    }\n",
              "\n",
              "    .colab-df-convert:hover {\n",
              "      background-color: #E2EBFA;\n",
              "      box-shadow: 0px 1px 2px rgba(60, 64, 67, 0.3), 0px 1px 3px 1px rgba(60, 64, 67, 0.15);\n",
              "      fill: #174EA6;\n",
              "    }\n",
              "\n",
              "    .colab-df-buttons div {\n",
              "      margin-bottom: 4px;\n",
              "    }\n",
              "\n",
              "    [theme=dark] .colab-df-convert {\n",
              "      background-color: #3B4455;\n",
              "      fill: #D2E3FC;\n",
              "    }\n",
              "\n",
              "    [theme=dark] .colab-df-convert:hover {\n",
              "      background-color: #434B5C;\n",
              "      box-shadow: 0px 1px 3px 1px rgba(0, 0, 0, 0.15);\n",
              "      filter: drop-shadow(0px 1px 2px rgba(0, 0, 0, 0.3));\n",
              "      fill: #FFFFFF;\n",
              "    }\n",
              "  </style>\n",
              "\n",
              "    <script>\n",
              "      const buttonEl =\n",
              "        document.querySelector('#df-76ea96da-9613-4b46-9eb6-87141f7818cb button.colab-df-convert');\n",
              "      buttonEl.style.display =\n",
              "        google.colab.kernel.accessAllowed ? 'block' : 'none';\n",
              "\n",
              "      async function convertToInteractive(key) {\n",
              "        const element = document.querySelector('#df-76ea96da-9613-4b46-9eb6-87141f7818cb');\n",
              "        const dataTable =\n",
              "          await google.colab.kernel.invokeFunction('convertToInteractive',\n",
              "                                                    [key], {});\n",
              "        if (!dataTable) return;\n",
              "\n",
              "        const docLinkHtml = 'Like what you see? Visit the ' +\n",
              "          '<a target=\"_blank\" href=https://colab.research.google.com/notebooks/data_table.ipynb>data table notebook</a>'\n",
              "          + ' to learn more about interactive tables.';\n",
              "        element.innerHTML = '';\n",
              "        dataTable['output_type'] = 'display_data';\n",
              "        await google.colab.output.renderOutput(dataTable, element);\n",
              "        const docLink = document.createElement('div');\n",
              "        docLink.innerHTML = docLinkHtml;\n",
              "        element.appendChild(docLink);\n",
              "      }\n",
              "    </script>\n",
              "  </div>\n",
              "\n",
              "\n",
              "    <div id=\"df-a4a3e952-824c-43e6-97c9-f3e81d234e63\">\n",
              "      <button class=\"colab-df-quickchart\" onclick=\"quickchart('df-a4a3e952-824c-43e6-97c9-f3e81d234e63')\"\n",
              "                title=\"Suggest charts\"\n",
              "                style=\"display:none;\">\n",
              "\n",
              "<svg xmlns=\"http://www.w3.org/2000/svg\" height=\"24px\"viewBox=\"0 0 24 24\"\n",
              "     width=\"24px\">\n",
              "    <g>\n",
              "        <path d=\"M19 3H5c-1.1 0-2 .9-2 2v14c0 1.1.9 2 2 2h14c1.1 0 2-.9 2-2V5c0-1.1-.9-2-2-2zM9 17H7v-7h2v7zm4 0h-2V7h2v10zm4 0h-2v-4h2v4z\"/>\n",
              "    </g>\n",
              "</svg>\n",
              "      </button>\n",
              "\n",
              "<style>\n",
              "  .colab-df-quickchart {\n",
              "      --bg-color: #E8F0FE;\n",
              "      --fill-color: #1967D2;\n",
              "      --hover-bg-color: #E2EBFA;\n",
              "      --hover-fill-color: #174EA6;\n",
              "      --disabled-fill-color: #AAA;\n",
              "      --disabled-bg-color: #DDD;\n",
              "  }\n",
              "\n",
              "  [theme=dark] .colab-df-quickchart {\n",
              "      --bg-color: #3B4455;\n",
              "      --fill-color: #D2E3FC;\n",
              "      --hover-bg-color: #434B5C;\n",
              "      --hover-fill-color: #FFFFFF;\n",
              "      --disabled-bg-color: #3B4455;\n",
              "      --disabled-fill-color: #666;\n",
              "  }\n",
              "\n",
              "  .colab-df-quickchart {\n",
              "    background-color: var(--bg-color);\n",
              "    border: none;\n",
              "    border-radius: 50%;\n",
              "    cursor: pointer;\n",
              "    display: none;\n",
              "    fill: var(--fill-color);\n",
              "    height: 32px;\n",
              "    padding: 0;\n",
              "    width: 32px;\n",
              "  }\n",
              "\n",
              "  .colab-df-quickchart:hover {\n",
              "    background-color: var(--hover-bg-color);\n",
              "    box-shadow: 0 1px 2px rgba(60, 64, 67, 0.3), 0 1px 3px 1px rgba(60, 64, 67, 0.15);\n",
              "    fill: var(--button-hover-fill-color);\n",
              "  }\n",
              "\n",
              "  .colab-df-quickchart-complete:disabled,\n",
              "  .colab-df-quickchart-complete:disabled:hover {\n",
              "    background-color: var(--disabled-bg-color);\n",
              "    fill: var(--disabled-fill-color);\n",
              "    box-shadow: none;\n",
              "  }\n",
              "\n",
              "  .colab-df-spinner {\n",
              "    border: 2px solid var(--fill-color);\n",
              "    border-color: transparent;\n",
              "    border-bottom-color: var(--fill-color);\n",
              "    animation:\n",
              "      spin 1s steps(1) infinite;\n",
              "  }\n",
              "\n",
              "  @keyframes spin {\n",
              "    0% {\n",
              "      border-color: transparent;\n",
              "      border-bottom-color: var(--fill-color);\n",
              "      border-left-color: var(--fill-color);\n",
              "    }\n",
              "    20% {\n",
              "      border-color: transparent;\n",
              "      border-left-color: var(--fill-color);\n",
              "      border-top-color: var(--fill-color);\n",
              "    }\n",
              "    30% {\n",
              "      border-color: transparent;\n",
              "      border-left-color: var(--fill-color);\n",
              "      border-top-color: var(--fill-color);\n",
              "      border-right-color: var(--fill-color);\n",
              "    }\n",
              "    40% {\n",
              "      border-color: transparent;\n",
              "      border-right-color: var(--fill-color);\n",
              "      border-top-color: var(--fill-color);\n",
              "    }\n",
              "    60% {\n",
              "      border-color: transparent;\n",
              "      border-right-color: var(--fill-color);\n",
              "    }\n",
              "    80% {\n",
              "      border-color: transparent;\n",
              "      border-right-color: var(--fill-color);\n",
              "      border-bottom-color: var(--fill-color);\n",
              "    }\n",
              "    90% {\n",
              "      border-color: transparent;\n",
              "      border-bottom-color: var(--fill-color);\n",
              "    }\n",
              "  }\n",
              "</style>\n",
              "\n",
              "      <script>\n",
              "        async function quickchart(key) {\n",
              "          const quickchartButtonEl =\n",
              "            document.querySelector('#' + key + ' button');\n",
              "          quickchartButtonEl.disabled = true;  // To prevent multiple clicks.\n",
              "          quickchartButtonEl.classList.add('colab-df-spinner');\n",
              "          try {\n",
              "            const charts = await google.colab.kernel.invokeFunction(\n",
              "                'suggestCharts', [key], {});\n",
              "          } catch (error) {\n",
              "            console.error('Error during call to suggestCharts:', error);\n",
              "          }\n",
              "          quickchartButtonEl.classList.remove('colab-df-spinner');\n",
              "          quickchartButtonEl.classList.add('colab-df-quickchart-complete');\n",
              "        }\n",
              "        (() => {\n",
              "          let quickchartButtonEl =\n",
              "            document.querySelector('#df-a4a3e952-824c-43e6-97c9-f3e81d234e63 button');\n",
              "          quickchartButtonEl.style.display =\n",
              "            google.colab.kernel.accessAllowed ? 'block' : 'none';\n",
              "        })();\n",
              "      </script>\n",
              "    </div>\n",
              "\n",
              "    </div>\n",
              "  </div>\n"
            ],
            "application/vnd.google.colaboratory.intrinsic+json": {
              "type": "dataframe",
              "variable_name": "df",
              "summary": "{\n  \"name\": \"df\",\n  \"rows\": 30,\n  \"fields\": [\n    {\n      \"column\": \"source\",\n      \"properties\": {\n        \"dtype\": \"category\",\n        \"num_unique_values\": 1,\n        \"samples\": [\n          \"CNBC\"\n        ],\n        \"semantic_type\": \"\",\n        \"description\": \"\"\n      }\n    },\n    {\n      \"column\": \"title\",\n      \"properties\": {\n        \"dtype\": \"string\",\n        \"num_unique_values\": 30,\n        \"samples\": [\n          \"Job market is 'trash' right now, career coach says \\u2014 here's why\"\n        ],\n        \"semantic_type\": \"\",\n        \"description\": \"\"\n      }\n    },\n    {\n      \"column\": \"url\",\n      \"properties\": {\n        \"dtype\": \"string\",\n        \"num_unique_values\": 30,\n        \"samples\": [\n          \"https://www.cnbc.com/2025/06/09/job-market-is-trash-right-now-career-coach-says-heres-why.html\"\n        ],\n        \"semantic_type\": \"\",\n        \"description\": \"\"\n      }\n    },\n    {\n      \"column\": \"published\",\n      \"properties\": {\n        \"dtype\": \"date\",\n        \"min\": \"2025-06-09 10:30:01\",\n        \"max\": \"2025-06-10 02:15:46\",\n        \"num_unique_values\": 29,\n        \"samples\": [\n          \"2025-06-09 10:30:01\"\n        ],\n        \"semantic_type\": \"\",\n        \"description\": \"\"\n      }\n    },\n    {\n      \"column\": \"content\",\n      \"properties\": {\n        \"dtype\": \"string\",\n        \"num_unique_values\": 30,\n        \"samples\": [\n          \"The U.S. job market isn't looking too hot for recent college graduates and other job seekers, according to economists and labor experts.\\n\\\"The job market is kind of trash right now,\\\" said Mandi Woodruff-Santos, a career coach and personal finance expert.\\n\\\"I mean, it's really difficult,\\\" she added. \\\"It's really difficult for people who have many years of experience, so it's going to be difficult for college kids.\\\"\\n'Tough summer' for job seekers\\nThat may seem counterintuitive.\\nThe national unemployment rate in May was relatively low, at 4.2%. The layoff rate has also been historically low, suggesting employers are holding on to their workers.\\nYet, hiring has been anemic. The pace of employer hiring in April was the lowest in more than 10 years, since August 2014, excluding the early months of the Covid pandemic.\\nMore from Personal Finance:\\nMillions would lose health insurance under GOP megabill\\nAverage 401(k) balances drop 3% due to market volatility\\nTrump administration asks Supreme Court to lift ban on Education Department layoffs\\nThe rate at which workers are quitting \\u2014 a barometer of worker confidence about their job prospects \\u2014 has also plummeted to below pre-pandemic levels, a stark reversal from the \\\"great resignation\\\" in 2021 and 2022.\\n\\\"It will be a tough summer for anyone looking for full-time work,\\\" Heather Long, chief economist at Navy Federal Credit Union, wrote in an e-mail Friday.\\n\\\"This is an 'abundance of caution economy' where businesses are only filling critical positions and job seekers, especially recent graduates, are struggling to find employment,\\\" she said.\\nSteady job market erosion 'cannot continue forever'\\nWhile the job market may be limping along by some measures, Long also said a recession doesn't seem \\\"imminent.\\\"\\nBusinesses added more jobs than expected in May, for example. But those gains have slowed significantly \\u2014 a worrisome sign, economists said.\\nEmployers appear reluctant to hire in an uncertain economy.\\nCEO confidence plummeted in the second quarter of 2025, seeing its largest quarterly decline on record dating to 1976, according to a survey by The Conference Board. Uncertainty around geopolitical instability, trade and tariff policy were the largest business risks, according to Roger Ferguson Jr., the group's chair emeritus.\\nThe share of CEOs expecting to expand their workforce fell slightly, to 28% in Q2 from 32% in Q1, and the share planning to cut their workforce rose 1 point, to 28%.\\n\\\"The steady erosion in the US job market cannot continue forever \\u2014 at some point, there will just not be much left to give,\\\" Cory Stahle, an economist at the Indeed Hiring Lab, wrote in an analysis Friday.\\n\\\"In a low-hiring, slow-growth environment, employers can only hold onto their existing employees for so long before they too will have to be let go \\u2014 increasing unemployment even as job opportunities continue to shrink,\\\" Stahle wrote.\\nDon't underestimate personal connections\\nDon't underestimate the \\\"power of personal connections\\\" to help get noticed in a competitive job market like this one, said Woodruff-Santos, the career coach.\\nHer No. 1 piece of advice: Make yourself \\\"uncomfortable\\\" in order to network and build professional relationships.\\n\\\"You need to put yourself in situations where you may not know everybody, you may not know one person, where you may actually need someone to give you a bit of a helping hand, and to feel confident and OK doing that,\\\" Woodruff-Santos said.\\nIf you're pushed to accept a job you don't love to make ends meet, make a plan to keep current in the field to which you aspire, she said.\\nIn other words, build the skills that will eventually help you get that job, perhaps by taking a training course, getting a certificate or doing contract work, she said. Also, consider joining a professional organization, putting yourself in the same room as people in your desired field and with whom you can connect, she said.\\nThese steps raise your chances of getting attention from future employers and keeping your skills sharp, Woodruff-Santos said.\\nShe also had some words of encouragement.\\n\\\"The job market has been trash before,\\\" she said. \\\"It'll be trash again. This probably won't be your first trash job market. And you're going to be OK.\\\"\"\n        ],\n        \"semantic_type\": \"\",\n        \"description\": \"\"\n      }\n    },\n    {\n      \"column\": \"full_text\",\n      \"properties\": {\n        \"dtype\": \"string\",\n        \"num_unique_values\": 30,\n        \"samples\": [\n          \"Job market is 'trash' right now, career coach says \\u2014 here's why The U.S. job market isn't looking too hot for recent college graduates and other job seekers, according to economists and labor experts. \\\"The job market is kind of trash right now,\\\" said Mandi Woodruff-Santos, a career coach and personal finance expert. \\\"I mean, it's really difficult,\\\" she added. \\\"It's really difficult for people who have many years of experience, so it's going to be difficult for college kids.\\\" 'Tough summer' for job seekers That may seem counterintuitive. The national unemployment rate in May was relatively low, at 4.2%. The layoff rate has also been historically low, suggesting employers are holding on to their workers. Yet, hiring has been anemic. The pace of employer hiring in April was the lowest in more than 10 years, since August 2014, excluding the early months of the Covid pandemic. More from Personal Finance: Millions would lose health insurance under GOP megabill Average 401(k) balances drop 3% due to market volatility Trump administration asks Supreme Court to lift ban on Education Department layoffs The rate at which workers are quitting \\u2014 a barometer of worker confidence about their job prospects \\u2014 has also plummeted to below pre-pandemic levels, a stark reversal from the \\\"great resignation\\\" in 2021 and 2022. \\\"It will be a tough summer for anyone looking for full-time work,\\\" Heather Long, chief economist at Navy Federal Credit Union, wrote in an e-mail Friday. \\\"This is an 'abundance of caution economy' where businesses are only filling critical positions and job seekers, especially recent graduates, are struggling to find employment,\\\" she said. Steady job market erosion 'cannot continue forever' While the job market may be limping along by some measures, Long also said a recession doesn't seem \\\"imminent.\\\" Businesses added more jobs than expected in May, for example. But those gains have slowed significantly \\u2014 a worrisome sign, economists said. Employers appear reluctant to hire in an uncertain economy. CEO confidence plummeted in the second quarter of 2025, seeing its largest quarterly decline on record dating to 1976, according to a survey by The Conference Board. Uncertainty around geopolitical instability, trade and tariff policy were the largest business risks, according to Roger Ferguson Jr., the group's chair emeritus. The share of CEOs expecting to expand their workforce fell slightly, to 28% in Q2 from 32% in Q1, and the share planning to cut their workforce rose 1 point, to 28%. \\\"The steady erosion in the US job market cannot continue forever \\u2014 at some point, there will just not be much left to give,\\\" Cory Stahle, an economist at the Indeed Hiring Lab, wrote in an analysis Friday. \\\"In a low-hiring, slow-growth environment, employers can only hold onto their existing employees for so long before they too will have to be let go \\u2014 increasing unemployment even as job opportunities continue to shrink,\\\" Stahle wrote. Don't underestimate personal connections Don't underestimate the \\\"power of personal connections\\\" to help get noticed in a competitive job market like this one, said Woodruff-Santos, the career coach. Her No. 1 piece of advice: Make yourself \\\"uncomfortable\\\" in order to network and build professional relationships. \\\"You need to put yourself in situations where you may not know everybody, you may not know one person, where you may actually need someone to give you a bit of a helping hand, and to feel confident and OK doing that,\\\" Woodruff-Santos said. If you're pushed to accept a job you don't love to make ends meet, make a plan to keep current in the field to which you aspire, she said. In other words, build the skills that will eventually help you get that job, perhaps by taking a training course, getting a certificate or doing contract work, she said. Also, consider joining a professional organization, putting yourself in the same room as people in your desired field and with whom you can connect, she said. These steps raise your chances of getting attention from future employers and keeping your skills sharp, Woodruff-Santos said. She also had some words of encouragement. \\\"The job market has been trash before,\\\" she said. \\\"It'll be trash again. This probably won't be your first trash job market. And you're going to be OK.\\\"\"\n        ],\n        \"semantic_type\": \"\",\n        \"description\": \"\"\n      }\n    },\n    {\n      \"column\": \"sentiment\",\n      \"properties\": {\n        \"dtype\": \"category\",\n        \"num_unique_values\": 1,\n        \"samples\": [\n          \"NEUTRAL\"\n        ],\n        \"semantic_type\": \"\",\n        \"description\": \"\"\n      }\n    },\n    {\n      \"column\": \"confidence\",\n      \"properties\": {\n        \"dtype\": \"number\",\n        \"std\": 0.0,\n        \"min\": 0.0,\n        \"max\": 0.0,\n        \"num_unique_values\": 1,\n        \"samples\": [\n          0.0\n        ],\n        \"semantic_type\": \"\",\n        \"description\": \"\"\n      }\n    },\n    {\n      \"column\": \"market_label\",\n      \"properties\": {\n        \"dtype\": \"category\",\n        \"num_unique_values\": 1,\n        \"samples\": [\n          \"UNKNOWN\"\n        ],\n        \"semantic_type\": \"\",\n        \"description\": \"\"\n      }\n    }\n  ]\n}"
            }
          },
          "metadata": {},
          "execution_count": 41
        }
      ]
    },
    {
      "cell_type": "code",
      "source": [
        "df[\"sentiment\"].value_counts()"
      ],
      "metadata": {
        "colab": {
          "base_uri": "https://localhost:8080/",
          "height": 147
        },
        "id": "Ww71qMg_c-qE",
        "outputId": "cfe222d1-1bbd-4d9a-ff77-7365392dfad7"
      },
      "execution_count": 42,
      "outputs": [
        {
          "output_type": "execute_result",
          "data": {
            "text/plain": [
              "sentiment\n",
              "NEUTRAL    30\n",
              "Name: count, dtype: int64"
            ],
            "text/html": [
              "<div>\n",
              "<style scoped>\n",
              "    .dataframe tbody tr th:only-of-type {\n",
              "        vertical-align: middle;\n",
              "    }\n",
              "\n",
              "    .dataframe tbody tr th {\n",
              "        vertical-align: top;\n",
              "    }\n",
              "\n",
              "    .dataframe thead th {\n",
              "        text-align: right;\n",
              "    }\n",
              "</style>\n",
              "<table border=\"1\" class=\"dataframe\">\n",
              "  <thead>\n",
              "    <tr style=\"text-align: right;\">\n",
              "      <th></th>\n",
              "      <th>count</th>\n",
              "    </tr>\n",
              "    <tr>\n",
              "      <th>sentiment</th>\n",
              "      <th></th>\n",
              "    </tr>\n",
              "  </thead>\n",
              "  <tbody>\n",
              "    <tr>\n",
              "      <th>NEUTRAL</th>\n",
              "      <td>30</td>\n",
              "    </tr>\n",
              "  </tbody>\n",
              "</table>\n",
              "</div><br><label><b>dtype:</b> int64</label>"
            ]
          },
          "metadata": {},
          "execution_count": 42
        }
      ]
    },
    {
      "cell_type": "markdown",
      "source": [],
      "metadata": {
        "id": "Iwvbgly1c_F0"
      }
    },
    {
      "cell_type": "code",
      "source": [
        "pip install yfinance ta pandas tqdm\n"
      ],
      "metadata": {
        "colab": {
          "base_uri": "https://localhost:8080/"
        },
        "id": "dTn-Tr_Jc_gi",
        "outputId": "8d1b452c-8335-4cff-977b-f9374c465cae"
      },
      "execution_count": 17,
      "outputs": [
        {
          "output_type": "stream",
          "name": "stdout",
          "text": [
            "Requirement already satisfied: yfinance in /usr/local/lib/python3.11/dist-packages (0.2.61)\n",
            "Collecting ta\n",
            "  Downloading ta-0.11.0.tar.gz (25 kB)\n",
            "  Preparing metadata (setup.py) ... \u001b[?25l\u001b[?25hdone\n",
            "Requirement already satisfied: pandas in /usr/local/lib/python3.11/dist-packages (2.2.2)\n",
            "Requirement already satisfied: tqdm in /usr/local/lib/python3.11/dist-packages (4.67.1)\n",
            "Requirement already satisfied: numpy>=1.16.5 in /usr/local/lib/python3.11/dist-packages (from yfinance) (2.0.2)\n",
            "Requirement already satisfied: requests>=2.31 in /usr/local/lib/python3.11/dist-packages (from yfinance) (2.32.3)\n",
            "Requirement already satisfied: multitasking>=0.0.7 in /usr/local/lib/python3.11/dist-packages (from yfinance) (0.0.11)\n",
            "Requirement already satisfied: platformdirs>=2.0.0 in /usr/local/lib/python3.11/dist-packages (from yfinance) (4.3.8)\n",
            "Requirement already satisfied: pytz>=2022.5 in /usr/local/lib/python3.11/dist-packages (from yfinance) (2025.2)\n",
            "Requirement already satisfied: frozendict>=2.3.4 in /usr/local/lib/python3.11/dist-packages (from yfinance) (2.4.6)\n",
            "Requirement already satisfied: peewee>=3.16.2 in /usr/local/lib/python3.11/dist-packages (from yfinance) (3.18.1)\n",
            "Requirement already satisfied: beautifulsoup4>=4.11.1 in /usr/local/lib/python3.11/dist-packages (from yfinance) (4.13.4)\n",
            "Requirement already satisfied: curl_cffi>=0.7 in /usr/local/lib/python3.11/dist-packages (from yfinance) (0.11.1)\n",
            "Requirement already satisfied: protobuf>=3.19.0 in /usr/local/lib/python3.11/dist-packages (from yfinance) (5.29.5)\n",
            "Requirement already satisfied: websockets>=13.0 in /usr/local/lib/python3.11/dist-packages (from yfinance) (15.0.1)\n",
            "Requirement already satisfied: python-dateutil>=2.8.2 in /usr/local/lib/python3.11/dist-packages (from pandas) (2.9.0.post0)\n",
            "Requirement already satisfied: tzdata>=2022.7 in /usr/local/lib/python3.11/dist-packages (from pandas) (2025.2)\n",
            "Requirement already satisfied: soupsieve>1.2 in /usr/local/lib/python3.11/dist-packages (from beautifulsoup4>=4.11.1->yfinance) (2.7)\n",
            "Requirement already satisfied: typing-extensions>=4.0.0 in /usr/local/lib/python3.11/dist-packages (from beautifulsoup4>=4.11.1->yfinance) (4.14.0)\n",
            "Requirement already satisfied: cffi>=1.12.0 in /usr/local/lib/python3.11/dist-packages (from curl_cffi>=0.7->yfinance) (1.17.1)\n",
            "Requirement already satisfied: certifi>=2024.2.2 in /usr/local/lib/python3.11/dist-packages (from curl_cffi>=0.7->yfinance) (2025.4.26)\n",
            "Requirement already satisfied: six>=1.5 in /usr/local/lib/python3.11/dist-packages (from python-dateutil>=2.8.2->pandas) (1.17.0)\n",
            "Requirement already satisfied: charset-normalizer<4,>=2 in /usr/local/lib/python3.11/dist-packages (from requests>=2.31->yfinance) (3.4.2)\n",
            "Requirement already satisfied: idna<4,>=2.5 in /usr/local/lib/python3.11/dist-packages (from requests>=2.31->yfinance) (3.10)\n",
            "Requirement already satisfied: urllib3<3,>=1.21.1 in /usr/local/lib/python3.11/dist-packages (from requests>=2.31->yfinance) (2.4.0)\n",
            "Requirement already satisfied: pycparser in /usr/local/lib/python3.11/dist-packages (from cffi>=1.12.0->curl_cffi>=0.7->yfinance) (2.22)\n",
            "Building wheels for collected packages: ta\n",
            "  Building wheel for ta (setup.py) ... \u001b[?25l\u001b[?25hdone\n",
            "  Created wheel for ta: filename=ta-0.11.0-py3-none-any.whl size=29412 sha256=84facce8c3e48cfd4f6c5881b655e733dbcf89b2610ea967f2da12864402950e\n",
            "  Stored in directory: /root/.cache/pip/wheels/a1/d7/29/7781cc5eb9a3659d032d7d15bdd0f49d07d2b24fec29f44bc4\n",
            "Successfully built ta\n",
            "Installing collected packages: ta\n",
            "Successfully installed ta-0.11.0\n"
          ]
        }
      ]
    },
    {
      "cell_type": "code",
      "source": [
        "import yfinance as yf\n",
        "import pandas as pd\n",
        "from datetime import datetime, timedelta\n",
        "from tqdm import tqdm\n",
        "\n",
        "# For this example, let’s assume a single asset like S&P 500\n",
        "ASSET_SYMBOL = \"^GSPC\"  # S&P 500 index\n",
        "WINDOW_HOURS = 24\n",
        "CHANGE_THRESHOLD = 0.005  # 0.5% up/down\n"
      ],
      "metadata": {
        "id": "uBTEWT-wdAG7"
      },
      "execution_count": 18,
      "outputs": []
    },
    {
      "cell_type": "code",
      "source": [
        "df[\"published\"] = pd.to_datetime(df[\"published\"], errors=\"coerce\")  # Force conversion, invalid → NaT\n",
        "df = df.dropna(subset=[\"published\"])  # Remove rows with invalid timestamps\n"
      ],
      "metadata": {
        "id": "N6ITnQJWdxTo"
      },
      "execution_count": 26,
      "outputs": []
    },
    {
      "cell_type": "code",
      "source": [
        "def label_market_reaction(news_time, symbol=\"SPY\", threshold=0.01):\n",
        "    if pd.isnull(news_time):\n",
        "        return \"UNKNOWN\"\n",
        "\n",
        "    try:\n",
        "        start_date = news_time.date()\n",
        "        end_date = (news_time + timedelta(days=2)).date()  # Allow wider window\n",
        "\n",
        "        # Try 1h interval first\n",
        "        data = yf.download(symbol, start=start_date, end=end_date, interval=\"1h\", progress=False)\n",
        "        if data.empty or len(data) < 2:\n",
        "            # Fallback to 1d interval\n",
        "            data = yf.download(symbol, start=start_date, end=end_date, interval=\"1d\", progress=False)\n",
        "\n",
        "        if data.empty or len(data) < 2:\n",
        "            return \"UNKNOWN\"\n",
        "\n",
        "        initial_price = data[\"Close\"].iloc[0]\n",
        "        final_price = data[\"Close\"].iloc[-1]\n",
        "        change = (final_price - initial_price) / initial_price\n",
        "\n",
        "        if change > threshold:\n",
        "            return \"UP\"\n",
        "        elif change < -threshold:\n",
        "            return \"DOWN\"\n",
        "        else:\n",
        "            return \"NEUTRAL\"\n",
        "    except Exception as e:\n",
        "        print(f\"Error at {news_time}: {e}\")\n",
        "        return \"UNKNOWN\"\n"
      ],
      "metadata": {
        "id": "vCYSaadsdAAg"
      },
      "execution_count": 31,
      "outputs": []
    },
    {
      "cell_type": "code",
      "source": [
        "from tqdm import tqdm\n",
        "tqdm.pandas(desc=\"Labeling Market Reaction\")\n",
        "\n",
        "df[\"market_label\"] = df[\"published\"].progress_apply(lambda ts: label_market_reaction(ts))\n"
      ],
      "metadata": {
        "colab": {
          "base_uri": "https://localhost:8080/"
        },
        "id": "PdzBj2Sac_-N",
        "outputId": "f6f46b2e-4d14-42ba-9dd3-11f0fe4676e4"
      },
      "execution_count": 35,
      "outputs": [
        {
          "output_type": "stream",
          "name": "stderr",
          "text": [
            "Labeling Market Reaction:   7%|▋         | 2/30 [00:00<00:01, 15.20it/s]ERROR:yfinance:\n",
            "1 Failed download:\n",
            "ERROR:yfinance:['SPY']: YFPricesMissingError('possibly delisted; no price data found  (1h 2025-06-10 -> 2025-06-12)')\n"
          ]
        },
        {
          "output_type": "stream",
          "name": "stdout",
          "text": [
            "Error at 2025-06-09 23:42:58: The truth value of a Series is ambiguous. Use a.empty, a.bool(), a.item(), a.any() or a.all().\n"
          ]
        },
        {
          "output_type": "stream",
          "name": "stderr",
          "text": [
            "\rLabeling Market Reaction:  13%|█▎        | 4/30 [00:00<00:04,  6.32it/s]"
          ]
        },
        {
          "output_type": "stream",
          "name": "stdout",
          "text": [
            "Error at 2025-06-09 21:31:52: The truth value of a Series is ambiguous. Use a.empty, a.bool(), a.item(), a.any() or a.all().\n"
          ]
        },
        {
          "output_type": "stream",
          "name": "stderr",
          "text": [
            "Labeling Market Reaction:  20%|██        | 6/30 [00:01<00:04,  5.35it/s]"
          ]
        },
        {
          "output_type": "stream",
          "name": "stdout",
          "text": [
            "Error at 2025-06-09 20:51:15: The truth value of a Series is ambiguous. Use a.empty, a.bool(), a.item(), a.any() or a.all().\n",
            "Error at 2025-06-09 21:29:43: The truth value of a Series is ambiguous. Use a.empty, a.bool(), a.item(), a.any() or a.all().\n"
          ]
        },
        {
          "output_type": "stream",
          "name": "stderr",
          "text": [
            "Labeling Market Reaction:  27%|██▋       | 8/30 [00:01<00:03,  5.64it/s]"
          ]
        },
        {
          "output_type": "stream",
          "name": "stdout",
          "text": [
            "Error at 2025-06-09 21:59:12: The truth value of a Series is ambiguous. Use a.empty, a.bool(), a.item(), a.any() or a.all().\n",
            "Error at 2025-06-09 20:13:02: The truth value of a Series is ambiguous. Use a.empty, a.bool(), a.item(), a.any() or a.all().\n"
          ]
        },
        {
          "output_type": "stream",
          "name": "stderr",
          "text": [
            "\rLabeling Market Reaction:  30%|███       | 9/30 [00:01<00:03,  5.33it/s]ERROR:yfinance:\n",
            "1 Failed download:\n",
            "ERROR:yfinance:['SPY']: YFPricesMissingError('possibly delisted; no price data found  (1h 2025-06-10 -> 2025-06-12)')\n"
          ]
        },
        {
          "output_type": "stream",
          "name": "stdout",
          "text": [
            "Error at 2025-06-09 21:51:45: The truth value of a Series is ambiguous. Use a.empty, a.bool(), a.item(), a.any() or a.all().\n"
          ]
        },
        {
          "output_type": "stream",
          "name": "stderr",
          "text": [
            "Labeling Market Reaction:  37%|███▋      | 11/30 [00:01<00:03,  5.21it/s]"
          ]
        },
        {
          "output_type": "stream",
          "name": "stdout",
          "text": [
            "Error at 2025-06-09 23:00:17: The truth value of a Series is ambiguous. Use a.empty, a.bool(), a.item(), a.any() or a.all().\n"
          ]
        },
        {
          "output_type": "stream",
          "name": "stderr",
          "text": [
            "Labeling Market Reaction:  43%|████▎     | 13/30 [00:02<00:04,  4.22it/s]"
          ]
        },
        {
          "output_type": "stream",
          "name": "stdout",
          "text": [
            "Error at 2025-06-09 18:18:38: The truth value of a Series is ambiguous. Use a.empty, a.bool(), a.item(), a.any() or a.all().\n",
            "Error at 2025-06-09 19:06:48: The truth value of a Series is ambiguous. Use a.empty, a.bool(), a.item(), a.any() or a.all().\n"
          ]
        },
        {
          "output_type": "stream",
          "name": "stderr",
          "text": [
            "Labeling Market Reaction:  50%|█████     | 15/30 [00:02<00:02,  5.19it/s]"
          ]
        },
        {
          "output_type": "stream",
          "name": "stdout",
          "text": [
            "Error at 2025-06-09 16:33:37: The truth value of a Series is ambiguous. Use a.empty, a.bool(), a.item(), a.any() or a.all().\n",
            "Error at 2025-06-09 16:14:29: The truth value of a Series is ambiguous. Use a.empty, a.bool(), a.item(), a.any() or a.all().\n"
          ]
        },
        {
          "output_type": "stream",
          "name": "stderr",
          "text": [
            "Labeling Market Reaction:  57%|█████▋    | 17/30 [00:03<00:02,  5.13it/s]"
          ]
        },
        {
          "output_type": "stream",
          "name": "stdout",
          "text": [
            "Error at 2025-06-09 19:51:46: The truth value of a Series is ambiguous. Use a.empty, a.bool(), a.item(), a.any() or a.all().\n",
            "Error at 2025-06-09 16:48:37: The truth value of a Series is ambiguous. Use a.empty, a.bool(), a.item(), a.any() or a.all().\n"
          ]
        },
        {
          "output_type": "stream",
          "name": "stderr",
          "text": [
            "\rLabeling Market Reaction:  60%|██████    | 18/30 [00:03<00:02,  5.48it/s]"
          ]
        },
        {
          "output_type": "stream",
          "name": "stdout",
          "text": [
            "Error at 2025-06-09 20:09:01: The truth value of a Series is ambiguous. Use a.empty, a.bool(), a.item(), a.any() or a.all().\n"
          ]
        },
        {
          "output_type": "stream",
          "name": "stderr",
          "text": [
            "\rLabeling Market Reaction:  63%|██████▎   | 19/30 [00:03<00:02,  5.10it/s]"
          ]
        },
        {
          "output_type": "stream",
          "name": "stdout",
          "text": [
            "Error at 2025-06-09 16:25:38: The truth value of a Series is ambiguous. Use a.empty, a.bool(), a.item(), a.any() or a.all().\n"
          ]
        },
        {
          "output_type": "stream",
          "name": "stderr",
          "text": [
            "Labeling Market Reaction:  70%|███████   | 21/30 [00:04<00:01,  5.25it/s]"
          ]
        },
        {
          "output_type": "stream",
          "name": "stdout",
          "text": [
            "Error at 2025-06-09 18:10:43: The truth value of a Series is ambiguous. Use a.empty, a.bool(), a.item(), a.any() or a.all().\n",
            "Error at 2025-06-09 15:38:34: The truth value of a Series is ambiguous. Use a.empty, a.bool(), a.item(), a.any() or a.all().\n"
          ]
        },
        {
          "output_type": "stream",
          "name": "stderr",
          "text": [
            "\rLabeling Market Reaction:  77%|███████▋  | 23/30 [00:04<00:01,  6.94it/s]"
          ]
        },
        {
          "output_type": "stream",
          "name": "stdout",
          "text": [
            "Error at 2025-06-09 20:01:18: The truth value of a Series is ambiguous. Use a.empty, a.bool(), a.item(), a.any() or a.all().\n",
            "Error at 2025-06-09 19:36:54: The truth value of a Series is ambiguous. Use a.empty, a.bool(), a.item(), a.any() or a.all().\n",
            "Error at 2025-06-09 20:56:46: The truth value of a Series is ambiguous. Use a.empty, a.bool(), a.item(), a.any() or a.all().\n"
          ]
        },
        {
          "output_type": "stream",
          "name": "stderr",
          "text": [
            "Labeling Market Reaction:  90%|█████████ | 27/30 [00:04<00:00,  8.82it/s]"
          ]
        },
        {
          "output_type": "stream",
          "name": "stdout",
          "text": [
            "Error at 2025-06-09 15:39:12: The truth value of a Series is ambiguous. Use a.empty, a.bool(), a.item(), a.any() or a.all().\n",
            "Error at 2025-06-09 12:09:01: The truth value of a Series is ambiguous. Use a.empty, a.bool(), a.item(), a.any() or a.all().\n",
            "Error at 2025-06-09 17:06:38: The truth value of a Series is ambiguous. Use a.empty, a.bool(), a.item(), a.any() or a.all().\n"
          ]
        },
        {
          "output_type": "stream",
          "name": "stderr",
          "text": [
            "Labeling Market Reaction:  97%|█████████▋| 29/30 [00:04<00:00,  7.62it/s]"
          ]
        },
        {
          "output_type": "stream",
          "name": "stdout",
          "text": [
            "Error at 2025-06-09 19:40:37: The truth value of a Series is ambiguous. Use a.empty, a.bool(), a.item(), a.any() or a.all().\n",
            "Error at 2025-06-09 10:30:01: The truth value of a Series is ambiguous. Use a.empty, a.bool(), a.item(), a.any() or a.all().\n"
          ]
        },
        {
          "output_type": "stream",
          "name": "stderr",
          "text": [
            "\rLabeling Market Reaction: 100%|██████████| 30/30 [00:05<00:00,  5.85it/s]"
          ]
        },
        {
          "output_type": "stream",
          "name": "stdout",
          "text": [
            "Error at 2025-06-09 13:30:01: The truth value of a Series is ambiguous. Use a.empty, a.bool(), a.item(), a.any() or a.all().\n",
            "Error at 2025-06-09 13:30:01: The truth value of a Series is ambiguous. Use a.empty, a.bool(), a.item(), a.any() or a.all().\n"
          ]
        },
        {
          "output_type": "stream",
          "name": "stderr",
          "text": [
            "\n"
          ]
        }
      ]
    },
    {
      "cell_type": "code",
      "source": [
        "print(df[[\"title\", \"published\", \"market_label\"]].head(20))\n"
      ],
      "metadata": {
        "colab": {
          "base_uri": "https://localhost:8080/"
        },
        "id": "rifz3poPc_76",
        "outputId": "bc3f1fdd-20f4-4ded-e498-0f535faebaa2"
      },
      "execution_count": 36,
      "outputs": [
        {
          "output_type": "stream",
          "name": "stdout",
          "text": [
            "                                                title           published  \\\n",
            "0   Apple's WWDC underwhelms on AI, but software g... 2025-06-09 23:42:58   \n",
            "1   Trump authorizes deploying 2,000 more National... 2025-06-10 01:06:55   \n",
            "2   RFK Jr. removes all members of CDC panel advis... 2025-06-09 21:31:52   \n",
            "3   Crypto CEO accused of laundering $500 million ... 2025-06-09 20:51:15   \n",
            "4   Disney to pay Comcast $438.7 million to take f... 2025-06-09 21:29:43   \n",
            "5      Trump, CEOs promote savings plans for newborns 2025-06-09 21:59:12   \n",
            "6   FDA approves Merck’s RSV shot for infants, ram... 2025-06-09 20:13:02   \n",
            "7   Photos show Waymo vehicles on fire during LA p... 2025-06-09 21:51:45   \n",
            "8   China and U.S. set to continue trade talks as ... 2025-06-10 02:15:46   \n",
            "9   Jim Cramer says Circle Internet stock is 'too ... 2025-06-09 23:00:17   \n",
            "10  Supreme Court just gave DOGE access to Social ... 2025-06-09 18:18:38   \n",
            "11  Trump, Harvard battle over student visas could... 2025-06-09 19:06:48   \n",
            "12  CEO recession expectations decline from April ... 2025-06-09 16:33:37   \n",
            "13  Jim Cramer sees a 'bizarre' rotation in the ma... 2025-06-09 16:14:29   \n",
            "14  Warner Bros. Discovery split throws the future... 2025-06-09 19:51:46   \n",
            "15  Warner Bros. Discovery to split into two publi... 2025-06-09 16:48:37   \n",
            "16  Topgolf Callaway stock jumps nearly 15% after ... 2025-06-09 20:09:01   \n",
            "17  Inflation fears receded in May as Trump eased ... 2025-06-09 16:25:38   \n",
            "18  Walmart is using its own fintech firm to provi... 2025-06-09 18:10:43   \n",
            "19  'He’s like Iron Man': Jensen Huang lit up Lond... 2025-06-09 15:38:34   \n",
            "\n",
            "   market_label  \n",
            "0       UNKNOWN  \n",
            "1       UNKNOWN  \n",
            "2       UNKNOWN  \n",
            "3       UNKNOWN  \n",
            "4       UNKNOWN  \n",
            "5       UNKNOWN  \n",
            "6       UNKNOWN  \n",
            "7       UNKNOWN  \n",
            "8       UNKNOWN  \n",
            "9       UNKNOWN  \n",
            "10      UNKNOWN  \n",
            "11      UNKNOWN  \n",
            "12      UNKNOWN  \n",
            "13      UNKNOWN  \n",
            "14      UNKNOWN  \n",
            "15      UNKNOWN  \n",
            "16      UNKNOWN  \n",
            "17      UNKNOWN  \n",
            "18      UNKNOWN  \n",
            "19      UNKNOWN  \n"
          ]
        }
      ]
    },
    {
      "cell_type": "code",
      "source": [
        "df[\"market_label\"].value_counts()"
      ],
      "metadata": {
        "colab": {
          "base_uri": "https://localhost:8080/",
          "height": 147
        },
        "id": "GCZ0ReA9evDv",
        "outputId": "a43fa8ad-5980-4e54-f862-32e61d3ac47b"
      },
      "execution_count": 38,
      "outputs": [
        {
          "output_type": "execute_result",
          "data": {
            "text/plain": [
              "market_label\n",
              "UNKNOWN    30\n",
              "Name: count, dtype: int64"
            ],
            "text/html": [
              "<div>\n",
              "<style scoped>\n",
              "    .dataframe tbody tr th:only-of-type {\n",
              "        vertical-align: middle;\n",
              "    }\n",
              "\n",
              "    .dataframe tbody tr th {\n",
              "        vertical-align: top;\n",
              "    }\n",
              "\n",
              "    .dataframe thead th {\n",
              "        text-align: right;\n",
              "    }\n",
              "</style>\n",
              "<table border=\"1\" class=\"dataframe\">\n",
              "  <thead>\n",
              "    <tr style=\"text-align: right;\">\n",
              "      <th></th>\n",
              "      <th>count</th>\n",
              "    </tr>\n",
              "    <tr>\n",
              "      <th>market_label</th>\n",
              "      <th></th>\n",
              "    </tr>\n",
              "  </thead>\n",
              "  <tbody>\n",
              "    <tr>\n",
              "      <th>UNKNOWN</th>\n",
              "      <td>30</td>\n",
              "    </tr>\n",
              "  </tbody>\n",
              "</table>\n",
              "</div><br><label><b>dtype:</b> int64</label>"
            ]
          },
          "metadata": {},
          "execution_count": 38
        }
      ]
    },
    {
      "cell_type": "code",
      "source": [
        "df.info()"
      ],
      "metadata": {
        "colab": {
          "base_uri": "https://localhost:8080/"
        },
        "id": "xE5ZGlZue2nx",
        "outputId": "f841bbf7-7a9f-45db-fa63-4c092bec3f0f"
      },
      "execution_count": 39,
      "outputs": [
        {
          "output_type": "stream",
          "name": "stdout",
          "text": [
            "<class 'pandas.core.frame.DataFrame'>\n",
            "Index: 30 entries, 0 to 29\n",
            "Data columns (total 9 columns):\n",
            " #   Column        Non-Null Count  Dtype         \n",
            "---  ------        --------------  -----         \n",
            " 0   source        30 non-null     object        \n",
            " 1   title         30 non-null     object        \n",
            " 2   url           30 non-null     object        \n",
            " 3   published     30 non-null     datetime64[ns]\n",
            " 4   content       30 non-null     object        \n",
            " 5   full_text     30 non-null     object        \n",
            " 6   sentiment     30 non-null     object        \n",
            " 7   confidence    30 non-null     float64       \n",
            " 8   market_label  30 non-null     object        \n",
            "dtypes: datetime64[ns](1), float64(1), object(7)\n",
            "memory usage: 2.3+ KB\n"
          ]
        }
      ]
    }
  ]
}